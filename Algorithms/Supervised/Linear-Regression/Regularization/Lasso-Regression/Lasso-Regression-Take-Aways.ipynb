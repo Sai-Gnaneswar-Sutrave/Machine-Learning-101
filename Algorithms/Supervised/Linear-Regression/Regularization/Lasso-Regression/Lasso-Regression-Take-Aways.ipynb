{
 "cells": [
  {
   "cell_type": "markdown",
   "id": "439ecda1-ec4d-4be7-9cda-7e9858c45808",
   "metadata": {},
   "source": [
    "# Import the libraries"
   ]
  },
  {
   "cell_type": "code",
   "execution_count": 1,
   "id": "d582904f-64b7-42cd-b4df-514f508b4bb1",
   "metadata": {},
   "outputs": [],
   "source": [
    "import pandas as pd\n",
    "import numpy as np\n",
    "import matplotlib.pyplot as plt\n",
    "import seaborn as sns\n",
    "\n",
    "from sklearn.datasets import load_diabetes, make_regression\n",
    "from sklearn.preprocessing import PolynomialFeatures\n",
    "from sklearn.model_selection import train_test_split\n",
    "from sklearn.linear_model import LinearRegression, SGDRegressor, Lasso\n",
    "from sklearn.metrics import r2_score\n",
    "from mlxtend.evaluate import bias_variance_decomp\n",
    "\n",
    "import warnings\n",
    "warnings.filterwarnings('ignore')"
   ]
  },
  {
   "cell_type": "markdown",
   "id": "46a4c6ee-bba9-4667-beaa-f7f17f9ef786",
   "metadata": {},
   "source": [
    "# How are the coefficients affected by Alpha(Lambda)?"
   ]
  },
  {
   "cell_type": "markdown",
   "id": "b5697008-89fb-4e47-8aa1-33eca6fe78cd",
   "metadata": {},
   "source": [
    "## Load the dataset"
   ]
  },
  {
   "cell_type": "code",
   "execution_count": 2,
   "id": "38fbd9ab-5ae5-4713-b514-4f7bca39436e",
   "metadata": {},
   "outputs": [],
   "source": [
    "data = load_diabetes()\n",
    "df = pd.DataFrame(data=data.data, columns=data.feature_names)\n",
    "df['target'] = data.target"
   ]
  },
  {
   "cell_type": "code",
   "execution_count": 3,
   "id": "d2bea43f-5c33-4c38-82a4-5d19b3eb837d",
   "metadata": {},
   "outputs": [
    {
     "data": {
      "text/html": [
       "<div>\n",
       "<style scoped>\n",
       "    .dataframe tbody tr th:only-of-type {\n",
       "        vertical-align: middle;\n",
       "    }\n",
       "\n",
       "    .dataframe tbody tr th {\n",
       "        vertical-align: top;\n",
       "    }\n",
       "\n",
       "    .dataframe thead th {\n",
       "        text-align: right;\n",
       "    }\n",
       "</style>\n",
       "<table border=\"1\" class=\"dataframe\">\n",
       "  <thead>\n",
       "    <tr style=\"text-align: right;\">\n",
       "      <th></th>\n",
       "      <th>age</th>\n",
       "      <th>sex</th>\n",
       "      <th>bmi</th>\n",
       "      <th>bp</th>\n",
       "      <th>s1</th>\n",
       "      <th>s2</th>\n",
       "      <th>s3</th>\n",
       "      <th>s4</th>\n",
       "      <th>s5</th>\n",
       "      <th>s6</th>\n",
       "      <th>target</th>\n",
       "    </tr>\n",
       "  </thead>\n",
       "  <tbody>\n",
       "    <tr>\n",
       "      <th>0</th>\n",
       "      <td>0.038076</td>\n",
       "      <td>0.050680</td>\n",
       "      <td>0.061696</td>\n",
       "      <td>0.021872</td>\n",
       "      <td>-0.044223</td>\n",
       "      <td>-0.034821</td>\n",
       "      <td>-0.043401</td>\n",
       "      <td>-0.002592</td>\n",
       "      <td>0.019907</td>\n",
       "      <td>-0.017646</td>\n",
       "      <td>151.0</td>\n",
       "    </tr>\n",
       "    <tr>\n",
       "      <th>1</th>\n",
       "      <td>-0.001882</td>\n",
       "      <td>-0.044642</td>\n",
       "      <td>-0.051474</td>\n",
       "      <td>-0.026328</td>\n",
       "      <td>-0.008449</td>\n",
       "      <td>-0.019163</td>\n",
       "      <td>0.074412</td>\n",
       "      <td>-0.039493</td>\n",
       "      <td>-0.068332</td>\n",
       "      <td>-0.092204</td>\n",
       "      <td>75.0</td>\n",
       "    </tr>\n",
       "    <tr>\n",
       "      <th>2</th>\n",
       "      <td>0.085299</td>\n",
       "      <td>0.050680</td>\n",
       "      <td>0.044451</td>\n",
       "      <td>-0.005670</td>\n",
       "      <td>-0.045599</td>\n",
       "      <td>-0.034194</td>\n",
       "      <td>-0.032356</td>\n",
       "      <td>-0.002592</td>\n",
       "      <td>0.002861</td>\n",
       "      <td>-0.025930</td>\n",
       "      <td>141.0</td>\n",
       "    </tr>\n",
       "    <tr>\n",
       "      <th>3</th>\n",
       "      <td>-0.089063</td>\n",
       "      <td>-0.044642</td>\n",
       "      <td>-0.011595</td>\n",
       "      <td>-0.036656</td>\n",
       "      <td>0.012191</td>\n",
       "      <td>0.024991</td>\n",
       "      <td>-0.036038</td>\n",
       "      <td>0.034309</td>\n",
       "      <td>0.022688</td>\n",
       "      <td>-0.009362</td>\n",
       "      <td>206.0</td>\n",
       "    </tr>\n",
       "    <tr>\n",
       "      <th>4</th>\n",
       "      <td>0.005383</td>\n",
       "      <td>-0.044642</td>\n",
       "      <td>-0.036385</td>\n",
       "      <td>0.021872</td>\n",
       "      <td>0.003935</td>\n",
       "      <td>0.015596</td>\n",
       "      <td>0.008142</td>\n",
       "      <td>-0.002592</td>\n",
       "      <td>-0.031988</td>\n",
       "      <td>-0.046641</td>\n",
       "      <td>135.0</td>\n",
       "    </tr>\n",
       "  </tbody>\n",
       "</table>\n",
       "</div>"
      ],
      "text/plain": [
       "        age       sex       bmi        bp        s1        s2        s3  \\\n",
       "0  0.038076  0.050680  0.061696  0.021872 -0.044223 -0.034821 -0.043401   \n",
       "1 -0.001882 -0.044642 -0.051474 -0.026328 -0.008449 -0.019163  0.074412   \n",
       "2  0.085299  0.050680  0.044451 -0.005670 -0.045599 -0.034194 -0.032356   \n",
       "3 -0.089063 -0.044642 -0.011595 -0.036656  0.012191  0.024991 -0.036038   \n",
       "4  0.005383 -0.044642 -0.036385  0.021872  0.003935  0.015596  0.008142   \n",
       "\n",
       "         s4        s5        s6  target  \n",
       "0 -0.002592  0.019907 -0.017646   151.0  \n",
       "1 -0.039493 -0.068332 -0.092204    75.0  \n",
       "2 -0.002592  0.002861 -0.025930   141.0  \n",
       "3  0.034309  0.022688 -0.009362   206.0  \n",
       "4 -0.002592 -0.031988 -0.046641   135.0  "
      ]
     },
     "execution_count": 3,
     "metadata": {},
     "output_type": "execute_result"
    }
   ],
   "source": [
    "df.head()"
   ]
  },
  {
   "cell_type": "code",
   "execution_count": 4,
   "id": "14e7cc12-34bd-403b-8227-9f672797882f",
   "metadata": {},
   "outputs": [
    {
     "data": {
      "text/plain": [
       "(442, 11)"
      ]
     },
     "execution_count": 4,
     "metadata": {},
     "output_type": "execute_result"
    }
   ],
   "source": [
    "df.shape"
   ]
  },
  {
   "cell_type": "markdown",
   "id": "c41cfda8-11e6-439a-8cf5-bf74070055a0",
   "metadata": {},
   "source": [
    "## Train Test Split"
   ]
  },
  {
   "cell_type": "code",
   "execution_count": 5,
   "id": "ff0df21e-3c16-4eed-bb50-a308ce3d4420",
   "metadata": {},
   "outputs": [],
   "source": [
    "X = df.drop('target', axis=1)\n",
    "y = df['target']"
   ]
  },
  {
   "cell_type": "code",
   "execution_count": 6,
   "id": "ef6236aa-b316-4f2b-90ce-69eb167be273",
   "metadata": {},
   "outputs": [
    {
     "data": {
      "text/plain": [
       "((442, 10), (442,))"
      ]
     },
     "execution_count": 6,
     "metadata": {},
     "output_type": "execute_result"
    }
   ],
   "source": [
    "X.shape, y.shape"
   ]
  },
  {
   "cell_type": "code",
   "execution_count": 7,
   "id": "d1ccd660-5e91-4a2e-9e2c-899d3a572291",
   "metadata": {},
   "outputs": [],
   "source": [
    "X_train, X_test, y_train, y_test = train_test_split(X, y, test_size=0.2, random_state=42)"
   ]
  },
  {
   "cell_type": "code",
   "execution_count": 8,
   "id": "9de20a8a-8ab2-4ed6-96ed-196ea4a02d49",
   "metadata": {},
   "outputs": [
    {
     "data": {
      "text/plain": [
       "((353, 10), (89, 10), (353,), (89,))"
      ]
     },
     "execution_count": 8,
     "metadata": {},
     "output_type": "execute_result"
    }
   ],
   "source": [
    "X_train.shape, X_test.shape, y_train.shape, y_test.shape"
   ]
  },
  {
   "cell_type": "markdown",
   "id": "f458754e-4e85-42f2-8398-cd72960d4124",
   "metadata": {},
   "source": [
    "## Lasso Regression"
   ]
  },
  {
   "cell_type": "code",
   "execution_count": 9,
   "id": "93d6876e-faac-4093-b554-38215f041801",
   "metadata": {},
   "outputs": [],
   "source": [
    "coefs = list()\n",
    "r2_scores = list()\n",
    "alphas = [0, 0.1, 1, 10]\n",
    "\n",
    "for i in alphas:\n",
    "    lasso = Lasso(alpha=i)\n",
    "\n",
    "    # Fit the model\n",
    "    lasso.fit(X_train, y_train)\n",
    "\n",
    "    # Prediction on test data\n",
    "    y_pred = lasso.predict(X_test)\n",
    "\n",
    "    # Append the values of coef_ and r2_score\n",
    "    coefs.append(lasso.coef_.tolist())\n",
    "    r2_scores.append(r2_score(y_test, y_pred))"
   ]
  },
  {
   "cell_type": "markdown",
   "id": "345e552c-9028-45f7-a10c-8ea10f2b114f",
   "metadata": {},
   "source": [
    "## Plottings"
   ]
  },
  {
   "cell_type": "code",
   "execution_count": 10,
   "id": "1fdfeb23-15d6-44b0-8316-79346d6c7e63",
   "metadata": {},
   "outputs": [
    {
     "data": {
      "image/png": "[encoded data removed]",
      "text/plain": [
       "<Figure size 800x600 with 4 Axes>"
      ]
     },
     "metadata": {},
     "output_type": "display_data"
    }
   ],
   "source": [
    "plt.figure(figsize=(8,6))\n",
    "\n",
    "for i, alpha in enumerate(alphas):\n",
    "    plt.subplot(2, 2, i+1)\n",
    "    sns.barplot(x=data.feature_names, y=coefs[i], palette=\"viridis\")\n",
    "    plt.xticks(rotation=90)\n",
    "    plt.title(f'Alpha={alpha}, r2={r2_scores[i]:.2f}')\n",
    "plt.tight_layout()\n",
    "plt.show()"
   ]
  },
  {
   "cell_type": "markdown",
   "id": "70b07597-e16d-4088-a3cd-5c48d794d3e2",
   "metadata": {},
   "source": [
    "**Top-left (Alpha=0, r²=0.45):**\n",
    "- This is equivalent to ordinary linear regression (no regularization). The coefficients vary widely, ranging roughly from +750 to –1000, with many non‑zero values.\n",
    "\n",
    "**Top-right (Alpha=0.1, r²=0.47):**\n",
    "- After applying a small amount of Lasso regularization, several coefficients have shrunk significantly, and some coefficients are driven exactly to zero, leaving only a subset of features active.\n",
    "\n",
    "**Bottom-left (Alpha=1, r²=0.36):**\n",
    "- With stronger regularization, even more coefficients are pushed to zero. Only a few features remain with non‑zero coefficients, and their magnitudes are smaller compared to the previous plots.\n",
    "\n",
    "**Bottom-right (Alpha=10, r²=0.01):**\n",
    "- At very high regularization strength, almost all coefficients are shrunk to exactly zero, effectively removing most features from the model. The model’s explanatory power (r²) drops dramatically.\n",
    "\n",
    "**Unlike Ridge regression (which only shrinks coefficients), Lasso regression performs feature selection—many coefficients become exactly zero as alpha increases, leaving only the most important predictors in the model.**"
   ]
  },
  {
   "cell_type": "markdown",
   "id": "f2300f14-8d06-4f30-9122-afeb4b29b5fc",
   "metadata": {},
   "source": [
    "# Are the larger coefficients affected the most due to Regularization?"
   ]
  },
  {
   "cell_type": "markdown",
   "id": "44fec013-968c-42ba-8169-c33e6c339842",
   "metadata": {},
   "source": [
    "## Lasso Regression"
   ]
  },
  {
   "cell_type": "code",
   "execution_count": 11,
   "id": "3a507d31-c3de-4e3a-883b-6f13c1712501",
   "metadata": {},
   "outputs": [],
   "source": [
    "coefs = list()\n",
    "alphas = [0, 0.0001, 0.001, 0.01, 0.1, 1, 10, 100, 1000, 10000]\n",
    "\n",
    "for i in alphas:\n",
    "    lasso = Lasso(alpha=i)\n",
    "\n",
    "    # Fit the model\n",
    "    lasso.fit(X_train, y_train)\n",
    "\n",
    "    # Append the values of coef_ and r2_score\n",
    "    coefs.append(lasso.coef_.tolist())"
   ]
  },
  {
   "cell_type": "markdown",
   "id": "86f6ec42-3e80-4f46-9309-94cbd5035c4e",
   "metadata": {},
   "source": [
    "## Coefficents Dataframe"
   ]
  },
  {
   "cell_type": "code",
   "execution_count": 12,
   "id": "10b63f77-6d2e-4886-9d7a-721bf2c9b8b0",
   "metadata": {},
   "outputs": [
    {
     "data": {
      "text/html": [
       "<div>\n",
       "<style scoped>\n",
       "    .dataframe tbody tr th:only-of-type {\n",
       "        vertical-align: middle;\n",
       "    }\n",
       "\n",
       "    .dataframe tbody tr th {\n",
       "        vertical-align: top;\n",
       "    }\n",
       "\n",
       "    .dataframe thead th {\n",
       "        text-align: right;\n",
       "    }\n",
       "</style>\n",
       "<table border=\"1\" class=\"dataframe\">\n",
       "  <thead>\n",
       "    <tr style=\"text-align: right;\">\n",
       "      <th></th>\n",
       "      <th>age</th>\n",
       "      <th>sex</th>\n",
       "      <th>bmi</th>\n",
       "      <th>bp</th>\n",
       "      <th>s1</th>\n",
       "      <th>s2</th>\n",
       "      <th>s3</th>\n",
       "      <th>s4</th>\n",
       "      <th>s5</th>\n",
       "      <th>s6</th>\n",
       "    </tr>\n",
       "    <tr>\n",
       "      <th>alpha</th>\n",
       "      <th></th>\n",
       "      <th></th>\n",
       "      <th></th>\n",
       "      <th></th>\n",
       "      <th></th>\n",
       "      <th></th>\n",
       "      <th></th>\n",
       "      <th></th>\n",
       "      <th></th>\n",
       "      <th></th>\n",
       "    </tr>\n",
       "  </thead>\n",
       "  <tbody>\n",
       "    <tr>\n",
       "      <th>0.0000</th>\n",
       "      <td>37.904021</td>\n",
       "      <td>-241.964362</td>\n",
       "      <td>542.428759</td>\n",
       "      <td>347.703844</td>\n",
       "      <td>-931.488838</td>\n",
       "      <td>518.062271</td>\n",
       "      <td>163.419980</td>\n",
       "      <td>275.317901</td>\n",
       "      <td>736.198856</td>\n",
       "      <td>48.670657</td>\n",
       "    </tr>\n",
       "    <tr>\n",
       "      <th>0.0001</th>\n",
       "      <td>37.891667</td>\n",
       "      <td>-241.878244</td>\n",
       "      <td>542.524544</td>\n",
       "      <td>347.624893</td>\n",
       "      <td>-924.832045</td>\n",
       "      <td>513.033268</td>\n",
       "      <td>160.224210</td>\n",
       "      <td>274.036385</td>\n",
       "      <td>733.762619</td>\n",
       "      <td>48.690013</td>\n",
       "    </tr>\n",
       "    <tr>\n",
       "      <th>0.0010</th>\n",
       "      <td>37.780431</td>\n",
       "      <td>-241.103200</td>\n",
       "      <td>543.386372</td>\n",
       "      <td>346.914418</td>\n",
       "      <td>-864.934721</td>\n",
       "      <td>467.782935</td>\n",
       "      <td>131.468467</td>\n",
       "      <td>262.504646</td>\n",
       "      <td>711.841733</td>\n",
       "      <td>48.864159</td>\n",
       "    </tr>\n",
       "    <tr>\n",
       "      <th>0.0100</th>\n",
       "      <td>35.347451</td>\n",
       "      <td>-231.906664</td>\n",
       "      <td>551.303242</td>\n",
       "      <td>341.313469</td>\n",
       "      <td>-483.567140</td>\n",
       "      <td>165.990532</td>\n",
       "      <td>-25.834899</td>\n",
       "      <td>216.875803</td>\n",
       "      <td>566.815003</td>\n",
       "      <td>49.702475</td>\n",
       "    </tr>\n",
       "    <tr>\n",
       "      <th>0.1000</th>\n",
       "      <td>0.000000</td>\n",
       "      <td>-152.664779</td>\n",
       "      <td>552.697775</td>\n",
       "      <td>303.365158</td>\n",
       "      <td>-81.365007</td>\n",
       "      <td>-0.000000</td>\n",
       "      <td>-229.255776</td>\n",
       "      <td>0.000000</td>\n",
       "      <td>447.919525</td>\n",
       "      <td>29.642617</td>\n",
       "    </tr>\n",
       "    <tr>\n",
       "      <th>1.0000</th>\n",
       "      <td>0.000000</td>\n",
       "      <td>-0.000000</td>\n",
       "      <td>413.431848</td>\n",
       "      <td>34.830515</td>\n",
       "      <td>0.000000</td>\n",
       "      <td>0.000000</td>\n",
       "      <td>-0.000000</td>\n",
       "      <td>0.000000</td>\n",
       "      <td>258.152894</td>\n",
       "      <td>0.000000</td>\n",
       "    </tr>\n",
       "    <tr>\n",
       "      <th>10.0000</th>\n",
       "      <td>0.000000</td>\n",
       "      <td>0.000000</td>\n",
       "      <td>0.000000</td>\n",
       "      <td>0.000000</td>\n",
       "      <td>0.000000</td>\n",
       "      <td>0.000000</td>\n",
       "      <td>-0.000000</td>\n",
       "      <td>0.000000</td>\n",
       "      <td>0.000000</td>\n",
       "      <td>0.000000</td>\n",
       "    </tr>\n",
       "    <tr>\n",
       "      <th>100.0000</th>\n",
       "      <td>0.000000</td>\n",
       "      <td>0.000000</td>\n",
       "      <td>0.000000</td>\n",
       "      <td>0.000000</td>\n",
       "      <td>0.000000</td>\n",
       "      <td>0.000000</td>\n",
       "      <td>-0.000000</td>\n",
       "      <td>0.000000</td>\n",
       "      <td>0.000000</td>\n",
       "      <td>0.000000</td>\n",
       "    </tr>\n",
       "    <tr>\n",
       "      <th>1000.0000</th>\n",
       "      <td>0.000000</td>\n",
       "      <td>0.000000</td>\n",
       "      <td>0.000000</td>\n",
       "      <td>0.000000</td>\n",
       "      <td>0.000000</td>\n",
       "      <td>0.000000</td>\n",
       "      <td>-0.000000</td>\n",
       "      <td>0.000000</td>\n",
       "      <td>0.000000</td>\n",
       "      <td>0.000000</td>\n",
       "    </tr>\n",
       "    <tr>\n",
       "      <th>10000.0000</th>\n",
       "      <td>0.000000</td>\n",
       "      <td>0.000000</td>\n",
       "      <td>0.000000</td>\n",
       "      <td>0.000000</td>\n",
       "      <td>0.000000</td>\n",
       "      <td>0.000000</td>\n",
       "      <td>-0.000000</td>\n",
       "      <td>0.000000</td>\n",
       "      <td>0.000000</td>\n",
       "      <td>0.000000</td>\n",
       "    </tr>\n",
       "  </tbody>\n",
       "</table>\n",
       "</div>"
      ],
      "text/plain": [
       "                  age         sex         bmi          bp          s1  \\\n",
       "alpha                                                                   \n",
       "0.0000      37.904021 -241.964362  542.428759  347.703844 -931.488838   \n",
       "0.0001      37.891667 -241.878244  542.524544  347.624893 -924.832045   \n",
       "0.0010      37.780431 -241.103200  543.386372  346.914418 -864.934721   \n",
       "0.0100      35.347451 -231.906664  551.303242  341.313469 -483.567140   \n",
       "0.1000       0.000000 -152.664779  552.697775  303.365158  -81.365007   \n",
       "1.0000       0.000000   -0.000000  413.431848   34.830515    0.000000   \n",
       "10.0000      0.000000    0.000000    0.000000    0.000000    0.000000   \n",
       "100.0000     0.000000    0.000000    0.000000    0.000000    0.000000   \n",
       "1000.0000    0.000000    0.000000    0.000000    0.000000    0.000000   \n",
       "10000.0000   0.000000    0.000000    0.000000    0.000000    0.000000   \n",
       "\n",
       "                    s2          s3          s4          s5         s6  \n",
       "alpha                                                                  \n",
       "0.0000      518.062271  163.419980  275.317901  736.198856  48.670657  \n",
       "0.0001      513.033268  160.224210  274.036385  733.762619  48.690013  \n",
       "0.0010      467.782935  131.468467  262.504646  711.841733  48.864159  \n",
       "0.0100      165.990532  -25.834899  216.875803  566.815003  49.702475  \n",
       "0.1000       -0.000000 -229.255776    0.000000  447.919525  29.642617  \n",
       "1.0000        0.000000   -0.000000    0.000000  258.152894   0.000000  \n",
       "10.0000       0.000000   -0.000000    0.000000    0.000000   0.000000  \n",
       "100.0000      0.000000   -0.000000    0.000000    0.000000   0.000000  \n",
       "1000.0000     0.000000   -0.000000    0.000000    0.000000   0.000000  \n",
       "10000.0000    0.000000   -0.000000    0.000000    0.000000   0.000000  "
      ]
     },
     "execution_count": 12,
     "metadata": {},
     "output_type": "execute_result"
    }
   ],
   "source": [
    "coefs_df = pd.DataFrame(data=np.array(coefs), columns=data.feature_names)\n",
    "coefs_df['alpha'] = alphas\n",
    "coefs_df.set_index('alpha')"
   ]
  },
  {
   "cell_type": "markdown",
   "id": "cc2ed018-a233-469d-b4d0-4becbe4995ed",
   "metadata": {},
   "source": [
    "- Larger coefficients will be penalized.\n",
    "- As the alpha values increases, the coefficients of those columns which are least required for prediction will shrink faster and eventually will become ZERO.\n",
    "- For alpha = 0.1000, you can see some of the coefficients of columns become ZERO, which implies Lasso has performed feature selection when an appropriate alpha is set.\n",
    "- Caveat: If the value of alpha is too large, then all the coefficients will become ZERO, creating sparsity. "
   ]
  },
  {
   "cell_type": "markdown",
   "id": "b3aeb0a1-f890-4a17-9c13-87d5ed729f3e",
   "metadata": {},
   "source": [
    "## Plotting"
   ]
  },
  {
   "cell_type": "code",
   "execution_count": 13,
   "id": "5aa2d93e-46aa-4b4b-9284-02645ced0b2a",
   "metadata": {},
   "outputs": [],
   "source": [
    "coefs = list()\n",
    "alphas = [0, 0.0001, 0.0005, 0.001, 0.005, 0.1, 0.5, 1, 5, 10]\n",
    "\n",
    "for i in alphas:\n",
    "    lasso = Lasso(alpha=i)\n",
    "\n",
    "    # Fit the model\n",
    "    lasso.fit(X_train, y_train)\n",
    "\n",
    "    # Append the values of coef_ and r2_score\n",
    "    coefs.append(lasso.coef_.tolist())"
   ]
  },
  {
   "cell_type": "code",
   "execution_count": 14,
   "id": "83da98db-e72d-4cff-b3fa-f70c5b365588",
   "metadata": {},
   "outputs": [],
   "source": [
    "input_array = np.array(coefs).T"
   ]
  },
  {
   "cell_type": "code",
   "execution_count": 15,
   "id": "6dc1e618-4c5a-4b64-b225-d5f16fb93c13",
   "metadata": {},
   "outputs": [
    {
     "data": {
      "image/png": "[encoded data removed]",
      "text/plain": [
       "<Figure size 800x600 with 1 Axes>"
      ]
     },
     "metadata": {},
     "output_type": "display_data"
    }
   ],
   "source": [
    "plt.figure(figsize=(8,6))\n",
    "plt.plot(alphas, np.zeros(len(alphas)), color='black', linewidth=5)\n",
    "for i in range(input_array.shape[0]):\n",
    "    plt.plot(alphas, input_array[i], label=data.feature_names[i])\n",
    "plt.legend()\n",
    "plt.show()"
   ]
  },
  {
   "cell_type": "markdown",
   "id": "f806c58e-c421-4831-a965-1b0b1141c19e",
   "metadata": {},
   "source": [
    "- Thick Black color line is the ZERO Line of the coefficients.\n",
    "- See how quickly the lines shrink to ZERO line."
   ]
  },
  {
   "cell_type": "markdown",
   "id": "1cafbf8e-09a4-4637-b20d-f5b54cbc3400",
   "metadata": {},
   "source": [
    "# How does Lasso effect Bias and Variance?"
   ]
  },
  {
   "cell_type": "markdown",
   "id": "27867410-1ade-4098-bb6c-8a5e13df307f",
   "metadata": {},
   "source": [
    "## Create some non-linear data"
   ]
  },
  {
   "cell_type": "code",
   "execution_count": 16,
   "id": "f80128e6-f1b3-4da8-9da8-6f97f377c2ea",
   "metadata": {},
   "outputs": [],
   "source": [
    "X = 5 * np.random.rand(100, 1) - 2\n",
    "y = 0.7 * X ** 2 - 2 * X + 3 + np.random.randn(100, 1) "
   ]
  },
  {
   "cell_type": "markdown",
   "id": "4c011113-326f-4cce-a293-4043efe095a6",
   "metadata": {},
   "source": [
    "## Scatter Plot of X vs y"
   ]
  },
  {
   "cell_type": "code",
   "execution_count": 17,
   "id": "b35a59b2-a59a-4e93-9d57-e27d50bda1ca",
   "metadata": {},
   "outputs": [
    {
     "data": {
      "image/png": "[encoded data removed]",
      "text/plain": [
       "<Figure size 640x480 with 1 Axes>"
      ]
     },
     "metadata": {},
     "output_type": "display_data"
    }
   ],
   "source": [
    "sns.scatterplot(x=X.ravel(), y=y.ravel());"
   ]
  },
  {
   "cell_type": "markdown",
   "id": "959eef63-7c87-4253-b8ab-692cc5370c3c",
   "metadata": {},
   "source": [
    "## Train Test Split"
   ]
  },
  {
   "cell_type": "code",
   "execution_count": 18,
   "id": "3d3b7ad9-2702-4535-b49f-0e9ec8a98841",
   "metadata": {},
   "outputs": [],
   "source": [
    "X_train, X_test, y_train, y_test = train_test_split(X.reshape(100, 1), y.reshape(100), test_size=0.2, random_state=42)"
   ]
  },
  {
   "cell_type": "code",
   "execution_count": 19,
   "id": "d642f6a2-ca2f-40bb-9128-fb99e58b9738",
   "metadata": {},
   "outputs": [
    {
     "data": {
      "text/plain": [
       "((80, 1), (20, 1), (80,), (20,))"
      ]
     },
     "execution_count": 19,
     "metadata": {},
     "output_type": "execute_result"
    }
   ],
   "source": [
    "X_train.shape, X_test.shape, y_train.shape, y_test.shape"
   ]
  },
  {
   "cell_type": "markdown",
   "id": "da3d4c68-0d02-4b74-b2fa-300f7c23be2d",
   "metadata": {},
   "source": [
    "## Apply PolynomialFeatures transformation"
   ]
  },
  {
   "cell_type": "code",
   "execution_count": 20,
   "id": "31a53c93-38bc-47e3-8245-a7014c900cf0",
   "metadata": {},
   "outputs": [],
   "source": [
    "poly = PolynomialFeatures(degree=5)"
   ]
  },
  {
   "cell_type": "code",
   "execution_count": 21,
   "id": "64c6b435-8bab-4b46-b72b-582729f2e4fa",
   "metadata": {},
   "outputs": [],
   "source": [
    "X_train = poly.fit_transform(X_train)\n",
    "X_test = poly.transform(X_test)"
   ]
  },
  {
   "cell_type": "markdown",
   "id": "f6c77580-e1d0-4d05-a7f5-cbcc8bbbaa9c",
   "metadata": {},
   "source": [
    "## Lasso Regression"
   ]
  },
  {
   "cell_type": "code",
   "execution_count": 22,
   "id": "4f33f824-cd63-4be6-9a49-e9bda28504b9",
   "metadata": {},
   "outputs": [],
   "source": [
    "alphas = np.linspace(start=0, stop=30, num=5)\n",
    "\n",
    "loss = list()\n",
    "bias = list()\n",
    "variance = list()\n",
    "\n",
    "for i in alphas:\n",
    "    lasso = Lasso(alpha=i)\n",
    "\n",
    "    # Fit the model using bias_variance_decomp\n",
    "    avg_expected_loss, avg_bias, avg_variance = bias_variance_decomp(lasso, X_train, y_train, X_test, y_test, \n",
    "                                                                     loss='mse', random_seed=42)\n",
    "\n",
    "    # Append these values to the lists\n",
    "    loss.append(avg_expected_loss)\n",
    "    bias.append(avg_bias)\n",
    "    variance.append(variance)"
   ]
  },
  {
   "cell_type": "code",
   "execution_count": 23,
   "id": "490db58b-aff5-47ec-81a2-46c4ed52c3a3",
   "metadata": {},
   "outputs": [
    {
     "data": {
      "text/plain": [
       "array([ 0. ,  7.5, 15. , 22.5, 30. ])"
      ]
     },
     "execution_count": 23,
     "metadata": {},
     "output_type": "execute_result"
    }
   ],
   "source": [
    "alphas"
   ]
  },
  {
   "cell_type": "markdown",
   "id": "cc40d4e4-54ba-454c-a121-17c00a222479",
   "metadata": {},
   "source": [
    "## Plotting of Bias-Variance Curve - killing the kernel"
   ]
  },
  {
   "cell_type": "code",
   "execution_count": 24,
   "id": "d1be2303-a280-481c-809f-22859067fb24",
   "metadata": {},
   "outputs": [],
   "source": [
    "# plt.plot(alphas, loss, label='loss')\n",
    "# plt.plot(alphas, bias, label='Bias')\n",
    "# plt.plot(alphas, variance, label='Variance')\n",
    "# plt.ylim(0,5)\n",
    "# plt.xlabel('Alpha')\n",
    "# plt.legend()\n",
    "# plt.show()"
   ]
  },
  {
   "cell_type": "code",
   "execution_count": 25,
   "id": "5d0b6608-5bc7-4818-975d-1e0c30504518",
   "metadata": {},
   "outputs": [],
   "source": [
    "# !nvidia-smi"
   ]
  },
  {
   "cell_type": "markdown",
   "id": "2db179a8-c12b-401c-905b-5e2d9b2c215e",
   "metadata": {},
   "source": [
    "# Effect of Lasso Regularization on Loss Function"
   ]
  },
  {
   "cell_type": "markdown",
   "id": "ea42d44d-9593-4cd4-a29e-2e6fb76062b0",
   "metadata": {},
   "source": [
    "## Generate some dataset"
   ]
  },
  {
   "cell_type": "code",
   "execution_count": 26,
   "id": "385cf177-9cfb-4190-89fd-3684710d2d56",
   "metadata": {},
   "outputs": [],
   "source": [
    "X,y = make_regression(n_samples=100, n_features=1, n_informative=1, n_targets=1, noise=20, random_state=42)"
   ]
  },
  {
   "cell_type": "markdown",
   "id": "e877545e-2784-4902-a08d-eb4f1cf9755a",
   "metadata": {},
   "source": [
    "## Scatter Plot of X vs y"
   ]
  },
  {
   "cell_type": "code",
   "execution_count": 27,
   "id": "7333a435-ec8c-4895-9dd3-608968154eee",
   "metadata": {},
   "outputs": [
    {
     "data": {
      "image/png": "[encoded data removed]",
      "text/plain": [
       "<Figure size 640x480 with 1 Axes>"
      ]
     },
     "metadata": {},
     "output_type": "display_data"
    }
   ],
   "source": [
    "sns.scatterplot(x=X.ravel(), y=y.ravel());"
   ]
  },
  {
   "cell_type": "markdown",
   "id": "c8b8a7bd-d3d2-418c-9933-6bd84d2eafa8",
   "metadata": {},
   "source": [
    "## Linear Regression"
   ]
  },
  {
   "cell_type": "code",
   "execution_count": 28,
   "id": "b72b0dff-e0c7-430c-831c-75d3205b3e6f",
   "metadata": {},
   "outputs": [
    {
     "name": "stdout",
     "output_type": "stream",
     "text": [
      "Coefficient:  [47.13323967]\n",
      "Intercept:  2.3302306410539453\n"
     ]
    }
   ],
   "source": [
    "lr = LinearRegression()\n",
    "\n",
    "# Fit the model\n",
    "lr.fit(X,y)\n",
    "\n",
    "# Coefficient and Intercept\n",
    "print('Coefficient: ', lr.coef_)\n",
    "print('Intercept: ', lr.intercept_)"
   ]
  },
  {
   "cell_type": "markdown",
   "id": "ea265a84-d3e5-4aaa-a3cc-ed568bc04a81",
   "metadata": {},
   "source": [
    "## Calculate Loss"
   ]
  },
  {
   "cell_type": "code",
   "execution_count": 29,
   "id": "2b63461d-6f0f-472c-a628-fbbfd385c9fb",
   "metadata": {},
   "outputs": [],
   "source": [
    "def calculate_loss(coef, alpha):\n",
    "    # L = np.sum(Yi - m * Xi)^2 + lambda * m^2\n",
    "    return np.sum((y - coef * X.ravel() + 2.33) ** 2) + alpha * coef * coef"
   ]
  },
  {
   "cell_type": "code",
   "execution_count": 30,
   "id": "bb5fe19b-d8bf-4fa0-b498-19a7c89441e2",
   "metadata": {},
   "outputs": [],
   "source": [
    "def predict(coef):\n",
    "    return coef * X + 2.33"
   ]
  },
  {
   "cell_type": "markdown",
   "id": "3db6ea45-fe2e-45bb-8953-edecf6bf44ff",
   "metadata": {},
   "source": [
    "## Plotting"
   ]
  },
  {
   "cell_type": "code",
   "execution_count": 31,
   "id": "0dd3e207-ad10-49c6-acba-6e49ec16688e",
   "metadata": {},
   "outputs": [
    {
     "data": {
      "image/png": "[encoded data removed]",
      "text/plain": [
       "<Figure size 400x600 with 1 Axes>"
      ]
     },
     "metadata": {},
     "output_type": "display_data"
    }
   ],
   "source": [
    "coef = np.linspace(start=-45, stop=100, num=100)\n",
    "alphas = [0, 10, 20, 30, 40, 50, 100]\n",
    "\n",
    "plt.figure(figsize=(4,6))\n",
    "\n",
    "for j in alphas:\n",
    "    loss = []\n",
    "    for i in range(coef.shape[0]):\n",
    "        loss_i = calculate_loss(coef[i], j)\n",
    "        loss.append(loss_i)\n",
    "    plt.plot(coef, loss, label='alpha = {}'.format(j))\n",
    "plt.legend()\n",
    "plt.xlabel('Coefficient')\n",
    "plt.ylabel('Loss')\n",
    "plt.show()"
   ]
  },
  {
   "cell_type": "markdown",
   "id": "343c5a14-14bb-4f40-ba46-593ee2788353",
   "metadata": {},
   "source": [
    "- As the alpha increases, the loss function curve moves towards origin, which implies, the coefficients shrink."
   ]
  },
  {
   "cell_type": "code",
   "execution_count": null,
   "id": "6d70b5ab-c8f6-418c-b0d8-c09d62f87770",
   "metadata": {},
   "outputs": [],
   "source": []
  }
 ],
 "metadata": {
  "kernelspec": {
   "display_name": "Python 3 (ipykernel)",
   "language": "python",
   "name": "python3"
  },
  "language_info": {
   "codemirror_mode": {
    "name": "ipython",
    "version": 3
   },
   "file_extension": ".py",
   "mimetype": "text/x-python",
   "name": "python",
   "nbconvert_exporter": "python",
   "pygments_lexer": "ipython3",
   "version": "3.12.7"
  }
 },
 "nbformat": 4,
 "nbformat_minor": 5
}
