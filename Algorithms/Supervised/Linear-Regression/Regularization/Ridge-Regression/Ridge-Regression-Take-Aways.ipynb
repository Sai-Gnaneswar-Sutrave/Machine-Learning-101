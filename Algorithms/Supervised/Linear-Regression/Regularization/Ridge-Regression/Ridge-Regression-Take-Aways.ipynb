{
 "cells": [
  {
   "cell_type": "markdown",
   "id": "439ecda1-ec4d-4be7-9cda-7e9858c45808",
   "metadata": {},
   "source": [
    "# Import the libraries"
   ]
  },
  {
   "cell_type": "code",
   "execution_count": 1,
   "id": "d582904f-64b7-42cd-b4df-514f508b4bb1",
   "metadata": {},
   "outputs": [],
   "source": [
    "import pandas as pd\n",
    "import numpy as np\n",
    "import matplotlib.pyplot as plt\n",
    "import seaborn as sns\n",
    "\n",
    "from sklearn.datasets import load_diabetes, make_regression\n",
    "from sklearn.preprocessing import PolynomialFeatures\n",
    "from sklearn.model_selection import train_test_split\n",
    "from sklearn.linear_model import LinearRegression, SGDRegressor, Ridge\n",
    "from sklearn.metrics import r2_score\n",
    "from mlxtend.evaluate import bias_variance_decomp\n",
    "\n",
    "import warnings\n",
    "warnings.filterwarnings('ignore')"
   ]
  },
  {
   "cell_type": "markdown",
   "id": "46a4c6ee-bba9-4667-beaa-f7f17f9ef786",
   "metadata": {},
   "source": [
    "# How are the coefficients affected by Alpha(Lambda)?"
   ]
  },
  {
   "cell_type": "markdown",
   "id": "b5697008-89fb-4e47-8aa1-33eca6fe78cd",
   "metadata": {},
   "source": [
    "## Load the dataset"
   ]
  },
  {
   "cell_type": "code",
   "execution_count": 2,
   "id": "38fbd9ab-5ae5-4713-b514-4f7bca39436e",
   "metadata": {},
   "outputs": [],
   "source": [
    "data = load_diabetes()\n",
    "df = pd.DataFrame(data=data.data, columns=data.feature_names)\n",
    "df['target'] = data.target"
   ]
  },
  {
   "cell_type": "code",
   "execution_count": 3,
   "id": "d2bea43f-5c33-4c38-82a4-5d19b3eb837d",
   "metadata": {},
   "outputs": [
    {
     "data": {
      "text/html": [
       "<div>\n",
       "<style scoped>\n",
       "    .dataframe tbody tr th:only-of-type {\n",
       "        vertical-align: middle;\n",
       "    }\n",
       "\n",
       "    .dataframe tbody tr th {\n",
       "        vertical-align: top;\n",
       "    }\n",
       "\n",
       "    .dataframe thead th {\n",
       "        text-align: right;\n",
       "    }\n",
       "</style>\n",
       "<table border=\"1\" class=\"dataframe\">\n",
       "  <thead>\n",
       "    <tr style=\"text-align: right;\">\n",
       "      <th></th>\n",
       "      <th>age</th>\n",
       "      <th>sex</th>\n",
       "      <th>bmi</th>\n",
       "      <th>bp</th>\n",
       "      <th>s1</th>\n",
       "      <th>s2</th>\n",
       "      <th>s3</th>\n",
       "      <th>s4</th>\n",
       "      <th>s5</th>\n",
       "      <th>s6</th>\n",
       "      <th>target</th>\n",
       "    </tr>\n",
       "  </thead>\n",
       "  <tbody>\n",
       "    <tr>\n",
       "      <th>0</th>\n",
       "      <td>0.038076</td>\n",
       "      <td>0.050680</td>\n",
       "      <td>0.061696</td>\n",
       "      <td>0.021872</td>\n",
       "      <td>-0.044223</td>\n",
       "      <td>-0.034821</td>\n",
       "      <td>-0.043401</td>\n",
       "      <td>-0.002592</td>\n",
       "      <td>0.019907</td>\n",
       "      <td>-0.017646</td>\n",
       "      <td>151.0</td>\n",
       "    </tr>\n",
       "    <tr>\n",
       "      <th>1</th>\n",
       "      <td>-0.001882</td>\n",
       "      <td>-0.044642</td>\n",
       "      <td>-0.051474</td>\n",
       "      <td>-0.026328</td>\n",
       "      <td>-0.008449</td>\n",
       "      <td>-0.019163</td>\n",
       "      <td>0.074412</td>\n",
       "      <td>-0.039493</td>\n",
       "      <td>-0.068332</td>\n",
       "      <td>-0.092204</td>\n",
       "      <td>75.0</td>\n",
       "    </tr>\n",
       "    <tr>\n",
       "      <th>2</th>\n",
       "      <td>0.085299</td>\n",
       "      <td>0.050680</td>\n",
       "      <td>0.044451</td>\n",
       "      <td>-0.005670</td>\n",
       "      <td>-0.045599</td>\n",
       "      <td>-0.034194</td>\n",
       "      <td>-0.032356</td>\n",
       "      <td>-0.002592</td>\n",
       "      <td>0.002861</td>\n",
       "      <td>-0.025930</td>\n",
       "      <td>141.0</td>\n",
       "    </tr>\n",
       "    <tr>\n",
       "      <th>3</th>\n",
       "      <td>-0.089063</td>\n",
       "      <td>-0.044642</td>\n",
       "      <td>-0.011595</td>\n",
       "      <td>-0.036656</td>\n",
       "      <td>0.012191</td>\n",
       "      <td>0.024991</td>\n",
       "      <td>-0.036038</td>\n",
       "      <td>0.034309</td>\n",
       "      <td>0.022688</td>\n",
       "      <td>-0.009362</td>\n",
       "      <td>206.0</td>\n",
       "    </tr>\n",
       "    <tr>\n",
       "      <th>4</th>\n",
       "      <td>0.005383</td>\n",
       "      <td>-0.044642</td>\n",
       "      <td>-0.036385</td>\n",
       "      <td>0.021872</td>\n",
       "      <td>0.003935</td>\n",
       "      <td>0.015596</td>\n",
       "      <td>0.008142</td>\n",
       "      <td>-0.002592</td>\n",
       "      <td>-0.031988</td>\n",
       "      <td>-0.046641</td>\n",
       "      <td>135.0</td>\n",
       "    </tr>\n",
       "  </tbody>\n",
       "</table>\n",
       "</div>"
      ],
      "text/plain": [
       "        age       sex       bmi        bp        s1        s2        s3  \\\n",
       "0  0.038076  0.050680  0.061696  0.021872 -0.044223 -0.034821 -0.043401   \n",
       "1 -0.001882 -0.044642 -0.051474 -0.026328 -0.008449 -0.019163  0.074412   \n",
       "2  0.085299  0.050680  0.044451 -0.005670 -0.045599 -0.034194 -0.032356   \n",
       "3 -0.089063 -0.044642 -0.011595 -0.036656  0.012191  0.024991 -0.036038   \n",
       "4  0.005383 -0.044642 -0.036385  0.021872  0.003935  0.015596  0.008142   \n",
       "\n",
       "         s4        s5        s6  target  \n",
       "0 -0.002592  0.019907 -0.017646   151.0  \n",
       "1 -0.039493 -0.068332 -0.092204    75.0  \n",
       "2 -0.002592  0.002861 -0.025930   141.0  \n",
       "3  0.034309  0.022688 -0.009362   206.0  \n",
       "4 -0.002592 -0.031988 -0.046641   135.0  "
      ]
     },
     "execution_count": 3,
     "metadata": {},
     "output_type": "execute_result"
    }
   ],
   "source": [
    "df.head()"
   ]
  },
  {
   "cell_type": "code",
   "execution_count": 4,
   "id": "14e7cc12-34bd-403b-8227-9f672797882f",
   "metadata": {},
   "outputs": [
    {
     "data": {
      "text/plain": [
       "(442, 11)"
      ]
     },
     "execution_count": 4,
     "metadata": {},
     "output_type": "execute_result"
    }
   ],
   "source": [
    "df.shape"
   ]
  },
  {
   "cell_type": "markdown",
   "id": "c41cfda8-11e6-439a-8cf5-bf74070055a0",
   "metadata": {},
   "source": [
    "## Train Test Split"
   ]
  },
  {
   "cell_type": "code",
   "execution_count": 5,
   "id": "ff0df21e-3c16-4eed-bb50-a308ce3d4420",
   "metadata": {},
   "outputs": [],
   "source": [
    "X = df.drop('target', axis=1)\n",
    "y = df['target']"
   ]
  },
  {
   "cell_type": "code",
   "execution_count": 6,
   "id": "ef6236aa-b316-4f2b-90ce-69eb167be273",
   "metadata": {},
   "outputs": [
    {
     "data": {
      "text/plain": [
       "((442, 10), (442,))"
      ]
     },
     "execution_count": 6,
     "metadata": {},
     "output_type": "execute_result"
    }
   ],
   "source": [
    "X.shape, y.shape"
   ]
  },
  {
   "cell_type": "code",
   "execution_count": 7,
   "id": "d1ccd660-5e91-4a2e-9e2c-899d3a572291",
   "metadata": {},
   "outputs": [],
   "source": [
    "X_train, X_test, y_train, y_test = train_test_split(X, y, test_size=0.2, random_state=42)"
   ]
  },
  {
   "cell_type": "code",
   "execution_count": 8,
   "id": "9de20a8a-8ab2-4ed6-96ed-196ea4a02d49",
   "metadata": {},
   "outputs": [
    {
     "data": {
      "text/plain": [
       "((353, 10), (89, 10), (353,), (89,))"
      ]
     },
     "execution_count": 8,
     "metadata": {},
     "output_type": "execute_result"
    }
   ],
   "source": [
    "X_train.shape, X_test.shape, y_train.shape, y_test.shape"
   ]
  },
  {
   "cell_type": "markdown",
   "id": "f458754e-4e85-42f2-8398-cd72960d4124",
   "metadata": {},
   "source": [
    "## Ridge Regression"
   ]
  },
  {
   "cell_type": "code",
   "execution_count": 9,
   "id": "93d6876e-faac-4093-b554-38215f041801",
   "metadata": {},
   "outputs": [],
   "source": [
    "coefs = list()\n",
    "r2_scores = list()\n",
    "alphas = [0, 10, 100, 1000]\n",
    "\n",
    "for i in alphas:\n",
    "    ridge = Ridge(alpha=i)\n",
    "\n",
    "    # Fit the model\n",
    "    ridge.fit(X_train, y_train)\n",
    "\n",
    "    # Prediction on test data\n",
    "    y_pred = ridge.predict(X_test)\n",
    "\n",
    "    # Append the values of coef_ and r2_score\n",
    "    coefs.append(ridge.coef_.tolist())\n",
    "    r2_scores.append(r2_score(y_test, y_pred))"
   ]
  },
  {
   "cell_type": "markdown",
   "id": "345e552c-9028-45f7-a10c-8ea10f2b114f",
   "metadata": {},
   "source": [
    "## Plottings"
   ]
  },
  {
   "cell_type": "code",
   "execution_count": 10,
   "id": "1fdfeb23-15d6-44b0-8316-79346d6c7e63",
   "metadata": {},
   "outputs": [
    {
     "data": {
      "image/png": "[encoded data removed]",
      "text/plain": [
       "<Figure size 800x600 with 4 Axes>"
      ]
     },
     "metadata": {},
     "output_type": "display_data"
    }
   ],
   "source": [
    "plt.figure(figsize=(8,6))\n",
    "\n",
    "for i, alpha in enumerate(alphas):\n",
    "    plt.subplot(2, 2, i+1)\n",
    "    sns.barplot(x=data.feature_names, y=coefs[i], palette=\"viridis\")\n",
    "    plt.xticks(rotation=90)\n",
    "    plt.title(f'Alpha={alpha}, r2={r2_scores[i]:.2f}')\n",
    "plt.tight_layout()\n",
    "plt.show()"
   ]
  },
  {
   "cell_type": "markdown",
   "id": "70b07597-e16d-4088-a3cd-5c48d794d3e2",
   "metadata": {},
   "source": [
    "- In the first plot (top‑left), the Y‑axis ranges from about +750 to –1000 when Alpha = 0.\n",
    "- In the second plot (top‑right), the Y‑axis narrows to about +60 to –40, showing that the coefficients have already shrunk noticeably as regularization is applied.\n",
    "- In the third plot (bottom‑left), the Y‑axis further compresses to about +8 to –4, indicating an even stronger shrinkage of the coefficients.\n",
    "- Finally, in the fourth plot (bottom‑right), the Y‑axis spans only +0.75 to –0.50, meaning the coefficients have been shrunk even more.\n",
    "\n",
    "**Importantly, notice that the coefficients never become exactly zero—they just keep getting smaller as the regularization strength (alpha) increases.**"
   ]
  },
  {
   "cell_type": "markdown",
   "id": "f2300f14-8d06-4f30-9122-afeb4b29b5fc",
   "metadata": {},
   "source": [
    "# Are the larger coefficients affected the most due to Regularization?"
   ]
  },
  {
   "cell_type": "markdown",
   "id": "44fec013-968c-42ba-8169-c33e6c339842",
   "metadata": {},
   "source": [
    "## Ridge Regression"
   ]
  },
  {
   "cell_type": "code",
   "execution_count": 11,
   "id": "3a507d31-c3de-4e3a-883b-6f13c1712501",
   "metadata": {},
   "outputs": [],
   "source": [
    "coefs = list()\n",
    "alphas = [0, 0.0001, 0.001, 0.01, 0.1, 1, 10, 100, 1000, 10000]\n",
    "\n",
    "for i in alphas:\n",
    "    ridge = Ridge(alpha=i)\n",
    "\n",
    "    # Fit the model\n",
    "    ridge.fit(X_train, y_train)\n",
    "\n",
    "    # Append the values of coef_ and r2_score\n",
    "    coefs.append(ridge.coef_.tolist())"
   ]
  },
  {
   "cell_type": "markdown",
   "id": "86f6ec42-3e80-4f46-9309-94cbd5035c4e",
   "metadata": {},
   "source": [
    "## Coefficents Dataframe"
   ]
  },
  {
   "cell_type": "code",
   "execution_count": 12,
   "id": "10b63f77-6d2e-4886-9d7a-721bf2c9b8b0",
   "metadata": {},
   "outputs": [
    {
     "data": {
      "text/html": [
       "<div>\n",
       "<style scoped>\n",
       "    .dataframe tbody tr th:only-of-type {\n",
       "        vertical-align: middle;\n",
       "    }\n",
       "\n",
       "    .dataframe tbody tr th {\n",
       "        vertical-align: top;\n",
       "    }\n",
       "\n",
       "    .dataframe thead th {\n",
       "        text-align: right;\n",
       "    }\n",
       "</style>\n",
       "<table border=\"1\" class=\"dataframe\">\n",
       "  <thead>\n",
       "    <tr style=\"text-align: right;\">\n",
       "      <th></th>\n",
       "      <th>age</th>\n",
       "      <th>sex</th>\n",
       "      <th>bmi</th>\n",
       "      <th>bp</th>\n",
       "      <th>s1</th>\n",
       "      <th>s2</th>\n",
       "      <th>s3</th>\n",
       "      <th>s4</th>\n",
       "      <th>s5</th>\n",
       "      <th>s6</th>\n",
       "    </tr>\n",
       "    <tr>\n",
       "      <th>alpha</th>\n",
       "      <th></th>\n",
       "      <th></th>\n",
       "      <th></th>\n",
       "      <th></th>\n",
       "      <th></th>\n",
       "      <th></th>\n",
       "      <th></th>\n",
       "      <th></th>\n",
       "      <th></th>\n",
       "      <th></th>\n",
       "    </tr>\n",
       "  </thead>\n",
       "  <tbody>\n",
       "    <tr>\n",
       "      <th>0.0000</th>\n",
       "      <td>37.904021</td>\n",
       "      <td>-241.964362</td>\n",
       "      <td>542.428759</td>\n",
       "      <td>347.703844</td>\n",
       "      <td>-931.488846</td>\n",
       "      <td>518.062277</td>\n",
       "      <td>163.419983</td>\n",
       "      <td>275.317902</td>\n",
       "      <td>736.198859</td>\n",
       "      <td>48.670657</td>\n",
       "    </tr>\n",
       "    <tr>\n",
       "      <th>0.0001</th>\n",
       "      <td>37.968967</td>\n",
       "      <td>-241.900460</td>\n",
       "      <td>542.593504</td>\n",
       "      <td>347.604088</td>\n",
       "      <td>-919.863924</td>\n",
       "      <td>508.995920</td>\n",
       "      <td>158.213776</td>\n",
       "      <td>273.689919</td>\n",
       "      <td>731.714305</td>\n",
       "      <td>48.786920</td>\n",
       "    </tr>\n",
       "    <tr>\n",
       "      <th>0.0010</th>\n",
       "      <td>38.483505</td>\n",
       "      <td>-241.351795</td>\n",
       "      <td>543.835179</td>\n",
       "      <td>346.782831</td>\n",
       "      <td>-827.701995</td>\n",
       "      <td>437.173749</td>\n",
       "      <td>116.949753</td>\n",
       "      <td>260.759264</td>\n",
       "      <td>696.129223</td>\n",
       "      <td>49.743447</td>\n",
       "    </tr>\n",
       "    <tr>\n",
       "      <th>0.0100</th>\n",
       "      <td>40.693422</td>\n",
       "      <td>-237.008020</td>\n",
       "      <td>546.161792</td>\n",
       "      <td>341.809317</td>\n",
       "      <td>-430.146300</td>\n",
       "      <td>129.902301</td>\n",
       "      <td>-60.460817</td>\n",
       "      <td>203.990842</td>\n",
       "      <td>541.098025</td>\n",
       "      <td>55.482553</td>\n",
       "    </tr>\n",
       "    <tr>\n",
       "      <th>0.1000</th>\n",
       "      <td>42.855670</td>\n",
       "      <td>-205.494319</td>\n",
       "      <td>505.089033</td>\n",
       "      <td>317.093205</td>\n",
       "      <td>-108.500262</td>\n",
       "      <td>-86.236733</td>\n",
       "      <td>-190.363180</td>\n",
       "      <td>151.707086</td>\n",
       "      <td>392.289319</td>\n",
       "      <td>79.908177</td>\n",
       "    </tr>\n",
       "    <tr>\n",
       "      <th>1.0000</th>\n",
       "      <td>45.367377</td>\n",
       "      <td>-76.666086</td>\n",
       "      <td>291.338832</td>\n",
       "      <td>198.995817</td>\n",
       "      <td>-0.530310</td>\n",
       "      <td>-28.577050</td>\n",
       "      <td>-144.511905</td>\n",
       "      <td>119.260066</td>\n",
       "      <td>230.221608</td>\n",
       "      <td>112.149830</td>\n",
       "    </tr>\n",
       "    <tr>\n",
       "      <th>10.0000</th>\n",
       "      <td>18.229623</td>\n",
       "      <td>-3.277536</td>\n",
       "      <td>65.128417</td>\n",
       "      <td>48.219668</td>\n",
       "      <td>16.238315</td>\n",
       "      <td>10.861055</td>\n",
       "      <td>-39.208913</td>\n",
       "      <td>41.438568</td>\n",
       "      <td>57.950124</td>\n",
       "      <td>39.359401</td>\n",
       "    </tr>\n",
       "    <tr>\n",
       "      <th>100.0000</th>\n",
       "      <td>2.414573</td>\n",
       "      <td>0.036315</td>\n",
       "      <td>7.689592</td>\n",
       "      <td>5.786517</td>\n",
       "      <td>2.488549</td>\n",
       "      <td>1.902019</td>\n",
       "      <td>-4.832511</td>\n",
       "      <td>5.397252</td>\n",
       "      <td>7.072654</td>\n",
       "      <td>5.030673</td>\n",
       "    </tr>\n",
       "    <tr>\n",
       "      <th>1000.0000</th>\n",
       "      <td>0.249289</td>\n",
       "      <td>0.008728</td>\n",
       "      <td>0.783880</td>\n",
       "      <td>0.590946</td>\n",
       "      <td>0.260657</td>\n",
       "      <td>0.201464</td>\n",
       "      <td>-0.495031</td>\n",
       "      <td>0.556314</td>\n",
       "      <td>0.723795</td>\n",
       "      <td>0.517311</td>\n",
       "    </tr>\n",
       "    <tr>\n",
       "      <th>10000.0000</th>\n",
       "      <td>0.025010</td>\n",
       "      <td>0.000926</td>\n",
       "      <td>0.078541</td>\n",
       "      <td>0.059221</td>\n",
       "      <td>0.026188</td>\n",
       "      <td>0.020263</td>\n",
       "      <td>-0.049624</td>\n",
       "      <td>0.055803</td>\n",
       "      <td>0.072550</td>\n",
       "      <td>0.051878</td>\n",
       "    </tr>\n",
       "  </tbody>\n",
       "</table>\n",
       "</div>"
      ],
      "text/plain": [
       "                  age         sex         bmi          bp          s1  \\\n",
       "alpha                                                                   \n",
       "0.0000      37.904021 -241.964362  542.428759  347.703844 -931.488846   \n",
       "0.0001      37.968967 -241.900460  542.593504  347.604088 -919.863924   \n",
       "0.0010      38.483505 -241.351795  543.835179  346.782831 -827.701995   \n",
       "0.0100      40.693422 -237.008020  546.161792  341.809317 -430.146300   \n",
       "0.1000      42.855670 -205.494319  505.089033  317.093205 -108.500262   \n",
       "1.0000      45.367377  -76.666086  291.338832  198.995817   -0.530310   \n",
       "10.0000     18.229623   -3.277536   65.128417   48.219668   16.238315   \n",
       "100.0000     2.414573    0.036315    7.689592    5.786517    2.488549   \n",
       "1000.0000    0.249289    0.008728    0.783880    0.590946    0.260657   \n",
       "10000.0000   0.025010    0.000926    0.078541    0.059221    0.026188   \n",
       "\n",
       "                    s2          s3          s4          s5          s6  \n",
       "alpha                                                                   \n",
       "0.0000      518.062277  163.419983  275.317902  736.198859   48.670657  \n",
       "0.0001      508.995920  158.213776  273.689919  731.714305   48.786920  \n",
       "0.0010      437.173749  116.949753  260.759264  696.129223   49.743447  \n",
       "0.0100      129.902301  -60.460817  203.990842  541.098025   55.482553  \n",
       "0.1000      -86.236733 -190.363180  151.707086  392.289319   79.908177  \n",
       "1.0000      -28.577050 -144.511905  119.260066  230.221608  112.149830  \n",
       "10.0000      10.861055  -39.208913   41.438568   57.950124   39.359401  \n",
       "100.0000      1.902019   -4.832511    5.397252    7.072654    5.030673  \n",
       "1000.0000     0.201464   -0.495031    0.556314    0.723795    0.517311  \n",
       "10000.0000    0.020263   -0.049624    0.055803    0.072550    0.051878  "
      ]
     },
     "execution_count": 12,
     "metadata": {},
     "output_type": "execute_result"
    }
   ],
   "source": [
    "coefs_df = pd.DataFrame(data=np.array(coefs), columns=data.feature_names)\n",
    "coefs_df['alpha'] = alphas\n",
    "coefs_df.set_index('alpha')"
   ]
  },
  {
   "cell_type": "markdown",
   "id": "cc2ed018-a233-469d-b4d0-4becbe4995ed",
   "metadata": {},
   "source": [
    "- Larger coefficients experience stronger shrinkage as alpha increases. (see cost function for Ridge Regression). For example, observe the decrease in the values of columns - bmi, s2 with the increase in alpha.\n",
    "- In other words, you can say, coefficient and alpha are inversely proportional.\n",
    "- Caveat: All the coefficients shrink, but the relative effect is more pronounced for large ones because of the quadratic (square) penalty. "
   ]
  },
  {
   "cell_type": "markdown",
   "id": "b3aeb0a1-f890-4a17-9c13-87d5ed729f3e",
   "metadata": {},
   "source": [
    "## Plotting"
   ]
  },
  {
   "cell_type": "code",
   "execution_count": 13,
   "id": "5aa2d93e-46aa-4b4b-9284-02645ced0b2a",
   "metadata": {},
   "outputs": [],
   "source": [
    "coefs = list()\n",
    "alphas = [0, 0.0001, 0.0005, 0.001, 0.005, 0.1, 0.5, 1, 5, 10]\n",
    "\n",
    "for i in alphas:\n",
    "    ridge = Ridge(alpha=i)\n",
    "\n",
    "    # Fit the model\n",
    "    ridge.fit(X_train, y_train)\n",
    "\n",
    "    # Append the values of coef_ and r2_score\n",
    "    coefs.append(ridge.coef_.tolist())"
   ]
  },
  {
   "cell_type": "code",
   "execution_count": 14,
   "id": "83da98db-e72d-4cff-b3fa-f70c5b365588",
   "metadata": {},
   "outputs": [],
   "source": [
    "input_array = np.array(coefs).T"
   ]
  },
  {
   "cell_type": "code",
   "execution_count": 15,
   "id": "6dc1e618-4c5a-4b64-b225-d5f16fb93c13",
   "metadata": {},
   "outputs": [
    {
     "data": {
      "image/png": "[encoded data removed]",
      "text/plain": [
       "<Figure size 800x600 with 1 Axes>"
      ]
     },
     "metadata": {},
     "output_type": "display_data"
    }
   ],
   "source": [
    "plt.figure(figsize=(8,6))\n",
    "plt.plot(alphas, np.zeros(len(alphas)), color='black', linewidth=5)\n",
    "for i in range(input_array.shape[0]):\n",
    "    plt.plot(alphas, input_array[i], label=data.feature_names[i])\n",
    "plt.legend()\n",
    "plt.show()"
   ]
  },
  {
   "cell_type": "markdown",
   "id": "f806c58e-c421-4831-a965-1b0b1141c19e",
   "metadata": {},
   "source": [
    "- Thick Black color line is the ZERO Line of the coefficients.\n",
    "- See how quickly the lines shrink towards ZERO line, but they never become ZERO."
   ]
  },
  {
   "cell_type": "markdown",
   "id": "1cafbf8e-09a4-4637-b20d-f5b54cbc3400",
   "metadata": {},
   "source": [
    "# How does Ridge effect Bias and Variance?"
   ]
  },
  {
   "cell_type": "markdown",
   "id": "27867410-1ade-4098-bb6c-8a5e13df307f",
   "metadata": {},
   "source": [
    "## Create some non-linear data"
   ]
  },
  {
   "cell_type": "code",
   "execution_count": 16,
   "id": "f80128e6-f1b3-4da8-9da8-6f97f377c2ea",
   "metadata": {},
   "outputs": [],
   "source": [
    "X = 5 * np.random.rand(100, 1) - 2\n",
    "y = 0.7 * X ** 2 - 2 * X + 3 + np.random.randn(100, 1) "
   ]
  },
  {
   "cell_type": "markdown",
   "id": "4c011113-326f-4cce-a293-4043efe095a6",
   "metadata": {},
   "source": [
    "## Scatter Plot of X vs y"
   ]
  },
  {
   "cell_type": "code",
   "execution_count": 17,
   "id": "b35a59b2-a59a-4e93-9d57-e27d50bda1ca",
   "metadata": {},
   "outputs": [
    {
     "data": {
      "image/png": "[encoded data removed]",
      "text/plain": [
       "<Figure size 640x480 with 1 Axes>"
      ]
     },
     "metadata": {},
     "output_type": "display_data"
    }
   ],
   "source": [
    "sns.scatterplot(x=X.ravel(), y=y.ravel());"
   ]
  },
  {
   "cell_type": "markdown",
   "id": "959eef63-7c87-4253-b8ab-692cc5370c3c",
   "metadata": {},
   "source": [
    "## Train Test Split"
   ]
  },
  {
   "cell_type": "code",
   "execution_count": 18,
   "id": "3d3b7ad9-2702-4535-b49f-0e9ec8a98841",
   "metadata": {},
   "outputs": [],
   "source": [
    "X_train, X_test, y_train, y_test = train_test_split(X.reshape(100, 1), y.reshape(100), test_size=0.2, random_state=42)"
   ]
  },
  {
   "cell_type": "code",
   "execution_count": 19,
   "id": "d642f6a2-ca2f-40bb-9128-fb99e58b9738",
   "metadata": {},
   "outputs": [
    {
     "data": {
      "text/plain": [
       "((80, 1), (20, 1), (80,), (20,))"
      ]
     },
     "execution_count": 19,
     "metadata": {},
     "output_type": "execute_result"
    }
   ],
   "source": [
    "X_train.shape, X_test.shape, y_train.shape, y_test.shape"
   ]
  },
  {
   "cell_type": "markdown",
   "id": "da3d4c68-0d02-4b74-b2fa-300f7c23be2d",
   "metadata": {},
   "source": [
    "## Apply PolynomialFeatures transformation"
   ]
  },
  {
   "cell_type": "code",
   "execution_count": 20,
   "id": "31a53c93-38bc-47e3-8245-a7014c900cf0",
   "metadata": {},
   "outputs": [],
   "source": [
    "poly = PolynomialFeatures(degree=5)"
   ]
  },
  {
   "cell_type": "code",
   "execution_count": 21,
   "id": "64c6b435-8bab-4b46-b72b-582729f2e4fa",
   "metadata": {},
   "outputs": [],
   "source": [
    "X_train = poly.fit_transform(X_train)\n",
    "X_test = poly.transform(X_test)"
   ]
  },
  {
   "cell_type": "markdown",
   "id": "f6c77580-e1d0-4d05-a7f5-cbcc8bbbaa9c",
   "metadata": {},
   "source": [
    "## Ridge Regression"
   ]
  },
  {
   "cell_type": "code",
   "execution_count": 22,
   "id": "4f33f824-cd63-4be6-9a49-e9bda28504b9",
   "metadata": {},
   "outputs": [],
   "source": [
    "alphas = np.linspace(start=0, stop=30, num=5)\n",
    "\n",
    "loss = list()\n",
    "bias = list()\n",
    "variance = list()\n",
    "\n",
    "for i in alphas:\n",
    "    ridge = Ridge(alpha=i)\n",
    "\n",
    "    # Fit the model using bias_variance_decomp\n",
    "    avg_expected_loss, avg_bias, avg_variance = bias_variance_decomp(ridge, X_train, y_train, X_test, y_test, \n",
    "                                                                     loss='mse', random_seed=42)\n",
    "\n",
    "    # Append these values to the lists\n",
    "    loss.append(avg_expected_loss)\n",
    "    bias.append(avg_bias)\n",
    "    variance.append(variance)"
   ]
  },
  {
   "cell_type": "code",
   "execution_count": 23,
   "id": "490db58b-aff5-47ec-81a2-46c4ed52c3a3",
   "metadata": {},
   "outputs": [
    {
     "data": {
      "text/plain": [
       "array([ 0. ,  7.5, 15. , 22.5, 30. ])"
      ]
     },
     "execution_count": 23,
     "metadata": {},
     "output_type": "execute_result"
    }
   ],
   "source": [
    "alphas"
   ]
  },
  {
   "cell_type": "markdown",
   "id": "cc40d4e4-54ba-454c-a121-17c00a222479",
   "metadata": {},
   "source": [
    "## Plotting of Bias-Variance Curve - killing the kernel"
   ]
  },
  {
   "cell_type": "code",
   "execution_count": 24,
   "id": "d1be2303-a280-481c-809f-22859067fb24",
   "metadata": {},
   "outputs": [],
   "source": [
    "# plt.plot(alphas, loss, label='loss')\n",
    "# plt.plot(alphas, bias, label='Bias')\n",
    "# plt.plot(alphas, variance, label='Variance')\n",
    "# plt.ylim(0,5)\n",
    "# plt.xlabel('Alpha')\n",
    "# plt.legend()\n",
    "# plt.show()"
   ]
  },
  {
   "cell_type": "code",
   "execution_count": 25,
   "id": "5d0b6608-5bc7-4818-975d-1e0c30504518",
   "metadata": {},
   "outputs": [],
   "source": [
    "# !nvidia-smi"
   ]
  },
  {
   "cell_type": "markdown",
   "id": "2db179a8-c12b-401c-905b-5e2d9b2c215e",
   "metadata": {},
   "source": [
    "# Effect of Ridge Regularization on Loss Function"
   ]
  },
  {
   "cell_type": "markdown",
   "id": "ea42d44d-9593-4cd4-a29e-2e6fb76062b0",
   "metadata": {},
   "source": [
    "## Generate some dataset"
   ]
  },
  {
   "cell_type": "code",
   "execution_count": 26,
   "id": "385cf177-9cfb-4190-89fd-3684710d2d56",
   "metadata": {},
   "outputs": [],
   "source": [
    "X,y = make_regression(n_samples=100, n_features=1, n_informative=1, n_targets=1, noise=20, random_state=42)"
   ]
  },
  {
   "cell_type": "markdown",
   "id": "e877545e-2784-4902-a08d-eb4f1cf9755a",
   "metadata": {},
   "source": [
    "## Scatter Plot of X vs y"
   ]
  },
  {
   "cell_type": "code",
   "execution_count": 27,
   "id": "7333a435-ec8c-4895-9dd3-608968154eee",
   "metadata": {},
   "outputs": [
    {
     "data": {
      "image/png": "[encoded data removed]",
      "text/plain": [
       "<Figure size 640x480 with 1 Axes>"
      ]
     },
     "metadata": {},
     "output_type": "display_data"
    }
   ],
   "source": [
    "sns.scatterplot(x=X.ravel(), y=y.ravel());"
   ]
  },
  {
   "cell_type": "markdown",
   "id": "c8b8a7bd-d3d2-418c-9933-6bd84d2eafa8",
   "metadata": {},
   "source": [
    "## Linear Regression"
   ]
  },
  {
   "cell_type": "code",
   "execution_count": 28,
   "id": "b72b0dff-e0c7-430c-831c-75d3205b3e6f",
   "metadata": {},
   "outputs": [
    {
     "name": "stdout",
     "output_type": "stream",
     "text": [
      "Coefficient:  [47.13323967]\n",
      "Intercept:  2.3302306410539453\n"
     ]
    }
   ],
   "source": [
    "lr = LinearRegression()\n",
    "\n",
    "# Fit the model\n",
    "lr.fit(X,y)\n",
    "\n",
    "# Coefficient and Intercept\n",
    "print('Coefficient: ', lr.coef_)\n",
    "print('Intercept: ', lr.intercept_)"
   ]
  },
  {
   "cell_type": "markdown",
   "id": "ea265a84-d3e5-4aaa-a3cc-ed568bc04a81",
   "metadata": {},
   "source": [
    "## Calculate Loss"
   ]
  },
  {
   "cell_type": "code",
   "execution_count": 29,
   "id": "2b63461d-6f0f-472c-a628-fbbfd385c9fb",
   "metadata": {},
   "outputs": [],
   "source": [
    "def calculate_loss(coef, alpha):\n",
    "    # L = np.sum(Yi - m * Xi)^2 + lambda * m^2\n",
    "    return np.sum((y - coef * X.ravel() + 2.33) ** 2) + alpha * coef * coef"
   ]
  },
  {
   "cell_type": "code",
   "execution_count": 30,
   "id": "bb5fe19b-d8bf-4fa0-b498-19a7c89441e2",
   "metadata": {},
   "outputs": [],
   "source": [
    "def predict(coef):\n",
    "    return coef * X - 2.33"
   ]
  },
  {
   "cell_type": "markdown",
   "id": "3db6ea45-fe2e-45bb-8953-edecf6bf44ff",
   "metadata": {},
   "source": [
    "## Plotting"
   ]
  },
  {
   "cell_type": "code",
   "execution_count": 31,
   "id": "0dd3e207-ad10-49c6-acba-6e49ec16688e",
   "metadata": {},
   "outputs": [
    {
     "data": {
      "image/png": "[encoded data removed]",
      "text/plain": [
       "<Figure size 400x600 with 1 Axes>"
      ]
     },
     "metadata": {},
     "output_type": "display_data"
    }
   ],
   "source": [
    "coef = np.linspace(start=-45, stop=100, num=100)\n",
    "alphas = [0, 10, 20, 30, 40, 50, 100]\n",
    "\n",
    "plt.figure(figsize=(4,6))\n",
    "\n",
    "for j in alphas:\n",
    "    loss = []\n",
    "    for i in range(coef.shape[0]):\n",
    "        loss_i = calculate_loss(coef[i], j)\n",
    "        loss.append(loss_i)\n",
    "    plt.plot(coef, loss, label='alpha = {}'.format(j))\n",
    "plt.legend()\n",
    "plt.xlabel('Coefficient')\n",
    "plt.ylabel('Loss')\n",
    "plt.show()"
   ]
  },
  {
   "cell_type": "markdown",
   "id": "343c5a14-14bb-4f40-ba46-593ee2788353",
   "metadata": {},
   "source": [
    "- As the alpha increases, the loss function curve moves towards origin, which implies, the coefficients shrink."
   ]
  },
  {
   "cell_type": "code",
   "execution_count": null,
   "id": "6d70b5ab-c8f6-418c-b0d8-c09d62f87770",
   "metadata": {},
   "outputs": [],
   "source": []
  }
 ],
 "metadata": {
  "kernelspec": {
   "display_name": "Python 3 (ipykernel)",
   "language": "python",
   "name": "python3"
  },
  "language_info": {
   "codemirror_mode": {
    "name": "ipython",
    "version": 3
   },
   "file_extension": ".py",
   "mimetype": "text/x-python",
   "name": "python",
   "nbconvert_exporter": "python",
   "pygments_lexer": "ipython3",
   "version": "3.12.7"
  }
 },
 "nbformat": 4,
 "nbformat_minor": 5
}
