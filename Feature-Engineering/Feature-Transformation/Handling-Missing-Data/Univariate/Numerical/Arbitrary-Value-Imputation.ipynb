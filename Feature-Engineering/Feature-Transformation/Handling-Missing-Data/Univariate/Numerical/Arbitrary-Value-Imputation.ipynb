{
 "cells": [
  {
   "cell_type": "markdown",
   "id": "9044310b-f3fd-4f58-81b0-5f57cbe938da",
   "metadata": {},
   "source": [
    "### Import the libraries"
   ]
  },
  {
   "cell_type": "code",
   "execution_count": 1,
   "id": "0e32e19f-9fcb-402d-8f4f-0d66cdb8fe02",
   "metadata": {},
   "outputs": [],
   "source": [
    "import pandas as pd\n",
    "import numpy as np\n",
    "import matplotlib.pyplot as plt\n",
    "import seaborn as sns\n",
    "\n",
    "from sklearn.model_selection import train_test_split\n",
    "from sklearn.impute import SimpleImputer\n",
    "from sklearn.compose import ColumnTransformer"
   ]
  },
  {
   "cell_type": "markdown",
   "id": "95becda1-5183-4b6a-a74b-0d95b520f4af",
   "metadata": {},
   "source": [
    "### Load the dataset"
   ]
  },
  {
   "cell_type": "code",
   "execution_count": 2,
   "id": "4f857664-316e-4c4a-9e93-d3d2bdac421f",
   "metadata": {},
   "outputs": [],
   "source": [
    "df = pd.read_csv(r'data/titanic_toy.csv')"
   ]
  },
  {
   "cell_type": "code",
   "execution_count": 3,
   "id": "8f6cd814-1c65-4b2e-867a-f1af1a1e6752",
   "metadata": {},
   "outputs": [
    {
     "data": {
      "text/html": [
       "<div>\n",
       "<style scoped>\n",
       "    .dataframe tbody tr th:only-of-type {\n",
       "        vertical-align: middle;\n",
       "    }\n",
       "\n",
       "    .dataframe tbody tr th {\n",
       "        vertical-align: top;\n",
       "    }\n",
       "\n",
       "    .dataframe thead th {\n",
       "        text-align: right;\n",
       "    }\n",
       "</style>\n",
       "<table border=\"1\" class=\"dataframe\">\n",
       "  <thead>\n",
       "    <tr style=\"text-align: right;\">\n",
       "      <th></th>\n",
       "      <th>Age</th>\n",
       "      <th>Fare</th>\n",
       "      <th>Family</th>\n",
       "      <th>Survived</th>\n",
       "    </tr>\n",
       "  </thead>\n",
       "  <tbody>\n",
       "    <tr>\n",
       "      <th>0</th>\n",
       "      <td>22.0</td>\n",
       "      <td>7.2500</td>\n",
       "      <td>1</td>\n",
       "      <td>0</td>\n",
       "    </tr>\n",
       "    <tr>\n",
       "      <th>1</th>\n",
       "      <td>38.0</td>\n",
       "      <td>71.2833</td>\n",
       "      <td>1</td>\n",
       "      <td>1</td>\n",
       "    </tr>\n",
       "    <tr>\n",
       "      <th>2</th>\n",
       "      <td>26.0</td>\n",
       "      <td>7.9250</td>\n",
       "      <td>0</td>\n",
       "      <td>1</td>\n",
       "    </tr>\n",
       "    <tr>\n",
       "      <th>3</th>\n",
       "      <td>35.0</td>\n",
       "      <td>53.1000</td>\n",
       "      <td>1</td>\n",
       "      <td>1</td>\n",
       "    </tr>\n",
       "    <tr>\n",
       "      <th>4</th>\n",
       "      <td>35.0</td>\n",
       "      <td>8.0500</td>\n",
       "      <td>0</td>\n",
       "      <td>0</td>\n",
       "    </tr>\n",
       "  </tbody>\n",
       "</table>\n",
       "</div>"
      ],
      "text/plain": [
       "    Age     Fare  Family  Survived\n",
       "0  22.0   7.2500       1         0\n",
       "1  38.0  71.2833       1         1\n",
       "2  26.0   7.9250       0         1\n",
       "3  35.0  53.1000       1         1\n",
       "4  35.0   8.0500       0         0"
      ]
     },
     "execution_count": 3,
     "metadata": {},
     "output_type": "execute_result"
    }
   ],
   "source": [
    "df.head()"
   ]
  },
  {
   "cell_type": "code",
   "execution_count": 4,
   "id": "70ed2900-ccd8-46b0-b40f-c14637c0c929",
   "metadata": {},
   "outputs": [
    {
     "name": "stdout",
     "output_type": "stream",
     "text": [
      "<class 'pandas.core.frame.DataFrame'>\n",
      "RangeIndex: 891 entries, 0 to 890\n",
      "Data columns (total 4 columns):\n",
      " #   Column    Non-Null Count  Dtype  \n",
      "---  ------    --------------  -----  \n",
      " 0   Age       714 non-null    float64\n",
      " 1   Fare      846 non-null    float64\n",
      " 2   Family    891 non-null    int64  \n",
      " 3   Survived  891 non-null    int64  \n",
      "dtypes: float64(2), int64(2)\n",
      "memory usage: 28.0 KB\n"
     ]
    }
   ],
   "source": [
    "df.info()"
   ]
  },
  {
   "cell_type": "code",
   "execution_count": 5,
   "id": "f219de34-2268-4b86-9701-da503bb07d34",
   "metadata": {},
   "outputs": [
    {
     "data": {
      "text/plain": [
       "Age         19.865320\n",
       "Fare         5.050505\n",
       "Family       0.000000\n",
       "Survived     0.000000\n",
       "dtype: float64"
      ]
     },
     "execution_count": 5,
     "metadata": {},
     "output_type": "execute_result"
    }
   ],
   "source": [
    "df.isnull().mean() * 100"
   ]
  },
  {
   "cell_type": "markdown",
   "id": "2860f68e-16d1-4165-83a4-d309e89049a5",
   "metadata": {},
   "source": [
    "### Train Test Split"
   ]
  },
  {
   "cell_type": "code",
   "execution_count": 6,
   "id": "d49d774f-1cfd-4752-99da-1d4d4b80eb93",
   "metadata": {},
   "outputs": [],
   "source": [
    "X = df.drop('Survived', axis=1)\n",
    "y = df['Survived']"
   ]
  },
  {
   "cell_type": "code",
   "execution_count": 7,
   "id": "d4bad9a1-ab24-449b-a764-7c4389daa809",
   "metadata": {},
   "outputs": [],
   "source": [
    "X_train, X_test, y_train, y_test = train_test_split(X, y, test_size=0.2, random_state=42)"
   ]
  },
  {
   "cell_type": "code",
   "execution_count": 8,
   "id": "b2796f86-8e21-4dfe-aea6-52c0c280eda5",
   "metadata": {},
   "outputs": [
    {
     "data": {
      "text/plain": [
       "((712, 3), (179, 3), (712,), (179,))"
      ]
     },
     "execution_count": 8,
     "metadata": {},
     "output_type": "execute_result"
    }
   ],
   "source": [
    "X_train.shape, X_test.shape, y_train.shape, y_test.shape"
   ]
  },
  {
   "cell_type": "markdown",
   "id": "2f61678d-13b7-4ef7-a81e-d81e73fce1dd",
   "metadata": {},
   "source": [
    "### Traditional way of imputing missing values using Arbitrary value"
   ]
  },
  {
   "cell_type": "markdown",
   "id": "1cbbcf68-4e72-4c63-8e10-bc266a3baaf4",
   "metadata": {},
   "source": [
    "#### Impute the Age and Fare columns using arbitrary values"
   ]
  },
  {
   "cell_type": "code",
   "execution_count": 9,
   "id": "a95666cd-22fd-4f87-a2cb-2840c4751126",
   "metadata": {},
   "outputs": [],
   "source": [
    "def arbitrary_imputer(col):\n",
    "    X_train[col + '_99'] = X_train[col].fillna(99)\n",
    "    X_train[col + '_minus1'] = X_train[col].fillna(-1)"
   ]
  },
  {
   "cell_type": "code",
   "execution_count": 10,
   "id": "78ffd827-c0a0-4c38-9df0-285d6b8d26ae",
   "metadata": {},
   "outputs": [],
   "source": [
    "arbitrary_imputer('Age')\n",
    "arbitrary_imputer('Fare')"
   ]
  },
  {
   "cell_type": "code",
   "execution_count": 11,
   "id": "e2fb10f6-07f2-42fd-b90b-3d4b72a06c01",
   "metadata": {},
   "outputs": [
    {
     "data": {
      "text/html": [
       "<div>\n",
       "<style scoped>\n",
       "    .dataframe tbody tr th:only-of-type {\n",
       "        vertical-align: middle;\n",
       "    }\n",
       "\n",
       "    .dataframe tbody tr th {\n",
       "        vertical-align: top;\n",
       "    }\n",
       "\n",
       "    .dataframe thead th {\n",
       "        text-align: right;\n",
       "    }\n",
       "</style>\n",
       "<table border=\"1\" class=\"dataframe\">\n",
       "  <thead>\n",
       "    <tr style=\"text-align: right;\">\n",
       "      <th></th>\n",
       "      <th>Age</th>\n",
       "      <th>Fare</th>\n",
       "      <th>Family</th>\n",
       "      <th>Age_99</th>\n",
       "      <th>Age_minus1</th>\n",
       "      <th>Fare_99</th>\n",
       "      <th>Fare_minus1</th>\n",
       "    </tr>\n",
       "  </thead>\n",
       "  <tbody>\n",
       "    <tr>\n",
       "      <th>337</th>\n",
       "      <td>41.0</td>\n",
       "      <td>134.500</td>\n",
       "      <td>0</td>\n",
       "      <td>41.0</td>\n",
       "      <td>41.0</td>\n",
       "      <td>134.500</td>\n",
       "      <td>134.500</td>\n",
       "    </tr>\n",
       "    <tr>\n",
       "      <th>217</th>\n",
       "      <td>42.0</td>\n",
       "      <td>27.000</td>\n",
       "      <td>1</td>\n",
       "      <td>42.0</td>\n",
       "      <td>42.0</td>\n",
       "      <td>27.000</td>\n",
       "      <td>27.000</td>\n",
       "    </tr>\n",
       "    <tr>\n",
       "      <th>87</th>\n",
       "      <td>NaN</td>\n",
       "      <td>8.050</td>\n",
       "      <td>0</td>\n",
       "      <td>99.0</td>\n",
       "      <td>-1.0</td>\n",
       "      <td>8.050</td>\n",
       "      <td>8.050</td>\n",
       "    </tr>\n",
       "    <tr>\n",
       "      <th>463</th>\n",
       "      <td>48.0</td>\n",
       "      <td>13.000</td>\n",
       "      <td>0</td>\n",
       "      <td>48.0</td>\n",
       "      <td>48.0</td>\n",
       "      <td>13.000</td>\n",
       "      <td>13.000</td>\n",
       "    </tr>\n",
       "    <tr>\n",
       "      <th>393</th>\n",
       "      <td>23.0</td>\n",
       "      <td>113.275</td>\n",
       "      <td>1</td>\n",
       "      <td>23.0</td>\n",
       "      <td>23.0</td>\n",
       "      <td>113.275</td>\n",
       "      <td>113.275</td>\n",
       "    </tr>\n",
       "  </tbody>\n",
       "</table>\n",
       "</div>"
      ],
      "text/plain": [
       "      Age     Fare  Family  Age_99  Age_minus1  Fare_99  Fare_minus1\n",
       "337  41.0  134.500       0    41.0        41.0  134.500      134.500\n",
       "217  42.0   27.000       1    42.0        42.0   27.000       27.000\n",
       "87    NaN    8.050       0    99.0        -1.0    8.050        8.050\n",
       "463  48.0   13.000       0    48.0        48.0   13.000       13.000\n",
       "393  23.0  113.275       1    23.0        23.0  113.275      113.275"
      ]
     },
     "execution_count": 11,
     "metadata": {},
     "output_type": "execute_result"
    }
   ],
   "source": [
    "X_train.sample(5)"
   ]
  },
  {
   "cell_type": "code",
   "execution_count": 12,
   "id": "8e770a08-4210-46e2-9aaf-fcc56ae666c9",
   "metadata": {},
   "outputs": [
    {
     "name": "stdout",
     "output_type": "stream",
     "text": [
      "Original Age variable variance:  210.2517072477438\n",
      "Age Variance after 99 wala imputation:  932.9665366701436\n",
      "Age Variance after -1 wala imputation:  315.99550362600644\n"
     ]
    }
   ],
   "source": [
    "print('Original Age variable variance: ', X_train['Age'].var())\n",
    "print('Age Variance after 99 wala imputation: ', X_train['Age_99'].var())\n",
    "print('Age Variance after -1 wala imputation: ', X_train['Age_minus1'].var())"
   ]
  },
  {
   "cell_type": "code",
   "execution_count": 13,
   "id": "1ed21ca4-7aca-4c52-aaad-ce3f8f2e783a",
   "metadata": {},
   "outputs": [
    {
     "name": "stdout",
     "output_type": "stream",
     "text": [
      "Original Fare variable variance:  2761.031434948639\n",
      "Fare Variance after 99 wala imputation:  2833.708690936757\n",
      "Fare Variance after -1 wala imputation:  2675.2394049177087\n"
     ]
    }
   ],
   "source": [
    "print('Original Fare variable variance: ', X_train['Fare'].var())\n",
    "print('Fare Variance after 99 wala imputation: ', X_train['Fare_99'].var())\n",
    "print('Fare Variance after -1 wala imputation: ', X_train['Fare_minus1'].var())"
   ]
  },
  {
   "cell_type": "markdown",
   "id": "66ac49ce-1286-4aa9-877d-0fb2b78a2b39",
   "metadata": {},
   "source": [
    "* The Variance (spread of data) seems to be increased after the imputing the missing values using arbitrary values (99 and -1)."
   ]
  },
  {
   "cell_type": "markdown",
   "id": "85da9059-ce05-4423-9186-e4427d2e65d7",
   "metadata": {},
   "source": [
    "#### Checking distribution after imputing"
   ]
  },
  {
   "cell_type": "code",
   "execution_count": 14,
   "id": "5ac7041b-a240-4a95-afd2-7766798d1843",
   "metadata": {},
   "outputs": [],
   "source": [
    "def visualize(col):\n",
    "    plt.figure(figsize=(10, 6))\n",
    "\n",
    "    # KDE for original column (with NaNs automatically dropped)\n",
    "    sns.kdeplot(X_train[col], label=col + '_Original', color='blue')\n",
    "\n",
    "    # KDE for median-imputed version\n",
    "    sns.kdeplot(X_train[col + '_99'], label=col + '_99', color='green')\n",
    " \n",
    "    # KDE for mean-imputed version\n",
    "    sns.kdeplot(X_train[col + '_minus1'], label=col + '_minus1', color='red')\n",
    "\n",
    "    plt.title(f'Distribution Comparison for {col}')\n",
    "    plt.xlabel(col)\n",
    "    plt.ylabel('Density')\n",
    "    plt.legend()\n",
    "    plt.grid(True)\n",
    "    plt.tight_layout()\n",
    "    plt.show()"
   ]
  },
  {
   "cell_type": "code",
   "execution_count": 15,
   "id": "43f2bf0e-e638-4e8f-9280-c63afb30c76f",
   "metadata": {},
   "outputs": [
    {
     "data": {
      "image/png": "[encoded data removed]",
      "text/plain": [
       "<Figure size 1000x600 with 1 Axes>"
      ]
     },
     "metadata": {},
     "output_type": "display_data"
    }
   ],
   "source": [
    "visualize('Age')"
   ]
  },
  {
   "cell_type": "markdown",
   "id": "f076ae9e-e6d9-4387-b401-62d558d36570",
   "metadata": {},
   "source": [
    "* Age ka distribution is changed."
   ]
  },
  {
   "cell_type": "code",
   "execution_count": 16,
   "id": "23f8893f-eab2-41a4-a653-c07a9e35dce5",
   "metadata": {},
   "outputs": [
    {
     "data": {
      "image/png": "[encoded data removed]",
      "text/plain": [
       "<Figure size 1000x600 with 1 Axes>"
      ]
     },
     "metadata": {},
     "output_type": "display_data"
    }
   ],
   "source": [
    "visualize('Fare')"
   ]
  },
  {
   "cell_type": "markdown",
   "id": "bf624f2f-84c6-4ba9-8822-7a2a053192ea",
   "metadata": {},
   "source": [
    "* Fare ka distrribution is almost same."
   ]
  },
  {
   "cell_type": "markdown",
   "id": "92c42096-7d6c-4e88-b65d-1b179534e7c7",
   "metadata": {},
   "source": [
    "#### Check the Covariance and Correlation"
   ]
  },
  {
   "cell_type": "code",
   "execution_count": 17,
   "id": "d66042c7-4cea-4e28-aca2-075e70ea62e0",
   "metadata": {},
   "outputs": [
    {
     "data": {
      "text/html": [
       "<div>\n",
       "<style scoped>\n",
       "    .dataframe tbody tr th:only-of-type {\n",
       "        vertical-align: middle;\n",
       "    }\n",
       "\n",
       "    .dataframe tbody tr th {\n",
       "        vertical-align: top;\n",
       "    }\n",
       "\n",
       "    .dataframe thead th {\n",
       "        text-align: right;\n",
       "    }\n",
       "</style>\n",
       "<table border=\"1\" class=\"dataframe\">\n",
       "  <thead>\n",
       "    <tr style=\"text-align: right;\">\n",
       "      <th></th>\n",
       "      <th>Age</th>\n",
       "      <th>Fare</th>\n",
       "      <th>Family</th>\n",
       "      <th>Age_99</th>\n",
       "      <th>Age_minus1</th>\n",
       "      <th>Fare_99</th>\n",
       "      <th>Fare_minus1</th>\n",
       "    </tr>\n",
       "  </thead>\n",
       "  <tbody>\n",
       "    <tr>\n",
       "      <th>Age</th>\n",
       "      <td>210.251707</td>\n",
       "      <td>75.481375</td>\n",
       "      <td>-6.993325</td>\n",
       "      <td>210.251707</td>\n",
       "      <td>210.251707</td>\n",
       "      <td>75.273024</td>\n",
       "      <td>69.137162</td>\n",
       "    </tr>\n",
       "    <tr>\n",
       "      <th>Fare</th>\n",
       "      <td>75.481375</td>\n",
       "      <td>2761.031435</td>\n",
       "      <td>18.599163</td>\n",
       "      <td>-111.965046</td>\n",
       "      <td>135.785804</td>\n",
       "      <td>2761.031435</td>\n",
       "      <td>2761.031435</td>\n",
       "    </tr>\n",
       "    <tr>\n",
       "      <th>Family</th>\n",
       "      <td>-6.993325</td>\n",
       "      <td>18.599163</td>\n",
       "      <td>2.830892</td>\n",
       "      <td>-6.941982</td>\n",
       "      <td>-5.034556</td>\n",
       "      <td>17.603852</td>\n",
       "      <td>17.684447</td>\n",
       "    </tr>\n",
       "    <tr>\n",
       "      <th>Age_99</th>\n",
       "      <td>210.251707</td>\n",
       "      <td>-111.965046</td>\n",
       "      <td>-6.941982</td>\n",
       "      <td>932.966537</td>\n",
       "      <td>-166.460682</td>\n",
       "      <td>-116.528480</td>\n",
       "      <td>-101.137070</td>\n",
       "    </tr>\n",
       "    <tr>\n",
       "      <th>Age_minus1</th>\n",
       "      <td>210.251707</td>\n",
       "      <td>135.785804</td>\n",
       "      <td>-5.034556</td>\n",
       "      <td>-166.460682</td>\n",
       "      <td>315.995504</td>\n",
       "      <td>138.114503</td>\n",
       "      <td>124.270305</td>\n",
       "    </tr>\n",
       "    <tr>\n",
       "      <th>Fare_99</th>\n",
       "      <td>75.273024</td>\n",
       "      <td>2761.031435</td>\n",
       "      <td>17.603852</td>\n",
       "      <td>-116.528480</td>\n",
       "      <td>138.114503</td>\n",
       "      <td>2833.708691</td>\n",
       "      <td>2514.109946</td>\n",
       "    </tr>\n",
       "    <tr>\n",
       "      <th>Fare_minus1</th>\n",
       "      <td>69.137162</td>\n",
       "      <td>2761.031435</td>\n",
       "      <td>17.684447</td>\n",
       "      <td>-101.137070</td>\n",
       "      <td>124.270305</td>\n",
       "      <td>2514.109946</td>\n",
       "      <td>2675.239405</td>\n",
       "    </tr>\n",
       "  </tbody>\n",
       "</table>\n",
       "</div>"
      ],
      "text/plain": [
       "                    Age         Fare     Family      Age_99  Age_minus1  \\\n",
       "Age          210.251707    75.481375  -6.993325  210.251707  210.251707   \n",
       "Fare          75.481375  2761.031435  18.599163 -111.965046  135.785804   \n",
       "Family        -6.993325    18.599163   2.830892   -6.941982   -5.034556   \n",
       "Age_99       210.251707  -111.965046  -6.941982  932.966537 -166.460682   \n",
       "Age_minus1   210.251707   135.785804  -5.034556 -166.460682  315.995504   \n",
       "Fare_99       75.273024  2761.031435  17.603852 -116.528480  138.114503   \n",
       "Fare_minus1   69.137162  2761.031435  17.684447 -101.137070  124.270305   \n",
       "\n",
       "                 Fare_99  Fare_minus1  \n",
       "Age            75.273024    69.137162  \n",
       "Fare         2761.031435  2761.031435  \n",
       "Family         17.603852    17.684447  \n",
       "Age_99       -116.528480  -101.137070  \n",
       "Age_minus1    138.114503   124.270305  \n",
       "Fare_99      2833.708691  2514.109946  \n",
       "Fare_minus1  2514.109946  2675.239405  "
      ]
     },
     "execution_count": 17,
     "metadata": {},
     "output_type": "execute_result"
    }
   ],
   "source": [
    "X_train.cov()"
   ]
  },
  {
   "cell_type": "code",
   "execution_count": 18,
   "id": "f142edfd-6374-46ca-94d1-132df73f98f2",
   "metadata": {},
   "outputs": [
    {
     "data": {
      "text/html": [
       "<div>\n",
       "<style scoped>\n",
       "    .dataframe tbody tr th:only-of-type {\n",
       "        vertical-align: middle;\n",
       "    }\n",
       "\n",
       "    .dataframe tbody tr th {\n",
       "        vertical-align: top;\n",
       "    }\n",
       "\n",
       "    .dataframe thead th {\n",
       "        text-align: right;\n",
       "    }\n",
       "</style>\n",
       "<table border=\"1\" class=\"dataframe\">\n",
       "  <thead>\n",
       "    <tr style=\"text-align: right;\">\n",
       "      <th></th>\n",
       "      <th>Age</th>\n",
       "      <th>Fare</th>\n",
       "      <th>Family</th>\n",
       "      <th>Age_99</th>\n",
       "      <th>Age_minus1</th>\n",
       "      <th>Fare_99</th>\n",
       "      <th>Fare_minus1</th>\n",
       "    </tr>\n",
       "  </thead>\n",
       "  <tbody>\n",
       "    <tr>\n",
       "      <th>Age</th>\n",
       "      <td>1.000000</td>\n",
       "      <td>0.091482</td>\n",
       "      <td>-0.319651</td>\n",
       "      <td>1.000000</td>\n",
       "      <td>1.000000</td>\n",
       "      <td>0.091016</td>\n",
       "      <td>0.085422</td>\n",
       "    </tr>\n",
       "    <tr>\n",
       "      <th>Fare</th>\n",
       "      <td>0.091482</td>\n",
       "      <td>1.000000</td>\n",
       "      <td>0.207193</td>\n",
       "      <td>-0.069365</td>\n",
       "      <td>0.145071</td>\n",
       "      <td>1.000000</td>\n",
       "      <td>1.000000</td>\n",
       "    </tr>\n",
       "    <tr>\n",
       "      <th>Family</th>\n",
       "      <td>-0.319651</td>\n",
       "      <td>0.207193</td>\n",
       "      <td>1.000000</td>\n",
       "      <td>-0.135079</td>\n",
       "      <td>-0.168329</td>\n",
       "      <td>0.196548</td>\n",
       "      <td>0.203212</td>\n",
       "    </tr>\n",
       "    <tr>\n",
       "      <th>Age_99</th>\n",
       "      <td>1.000000</td>\n",
       "      <td>-0.069365</td>\n",
       "      <td>-0.135079</td>\n",
       "      <td>1.000000</td>\n",
       "      <td>-0.306576</td>\n",
       "      <td>-0.071667</td>\n",
       "      <td>-0.064017</td>\n",
       "    </tr>\n",
       "    <tr>\n",
       "      <th>Age_minus1</th>\n",
       "      <td>1.000000</td>\n",
       "      <td>0.145071</td>\n",
       "      <td>-0.168329</td>\n",
       "      <td>-0.306576</td>\n",
       "      <td>1.000000</td>\n",
       "      <td>0.145956</td>\n",
       "      <td>0.135159</td>\n",
       "    </tr>\n",
       "    <tr>\n",
       "      <th>Fare_99</th>\n",
       "      <td>0.091016</td>\n",
       "      <td>1.000000</td>\n",
       "      <td>0.196548</td>\n",
       "      <td>-0.071667</td>\n",
       "      <td>0.145956</td>\n",
       "      <td>1.000000</td>\n",
       "      <td>0.913115</td>\n",
       "    </tr>\n",
       "    <tr>\n",
       "      <th>Fare_minus1</th>\n",
       "      <td>0.085422</td>\n",
       "      <td>1.000000</td>\n",
       "      <td>0.203212</td>\n",
       "      <td>-0.064017</td>\n",
       "      <td>0.135159</td>\n",
       "      <td>0.913115</td>\n",
       "      <td>1.000000</td>\n",
       "    </tr>\n",
       "  </tbody>\n",
       "</table>\n",
       "</div>"
      ],
      "text/plain": [
       "                  Age      Fare    Family    Age_99  Age_minus1   Fare_99  \\\n",
       "Age          1.000000  0.091482 -0.319651  1.000000    1.000000  0.091016   \n",
       "Fare         0.091482  1.000000  0.207193 -0.069365    0.145071  1.000000   \n",
       "Family      -0.319651  0.207193  1.000000 -0.135079   -0.168329  0.196548   \n",
       "Age_99       1.000000 -0.069365 -0.135079  1.000000   -0.306576 -0.071667   \n",
       "Age_minus1   1.000000  0.145071 -0.168329 -0.306576    1.000000  0.145956   \n",
       "Fare_99      0.091016  1.000000  0.196548 -0.071667    0.145956  1.000000   \n",
       "Fare_minus1  0.085422  1.000000  0.203212 -0.064017    0.135159  0.913115   \n",
       "\n",
       "             Fare_minus1  \n",
       "Age             0.085422  \n",
       "Fare            1.000000  \n",
       "Family          0.203212  \n",
       "Age_99         -0.064017  \n",
       "Age_minus1      0.135159  \n",
       "Fare_99         0.913115  \n",
       "Fare_minus1     1.000000  "
      ]
     },
     "execution_count": 18,
     "metadata": {},
     "output_type": "execute_result"
    }
   ],
   "source": [
    "X_train.corr()"
   ]
  },
  {
   "cell_type": "markdown",
   "id": "266975c1-2e89-4b68-9942-e6ad2fae3e39",
   "metadata": {},
   "source": [
    "* Changes in Covariance and Correlation are also not good."
   ]
  },
  {
   "cell_type": "markdown",
   "id": "bfa8ca8e-e35a-4f79-be0e-233f817eaea0",
   "metadata": {},
   "source": [
    "#### Check for outliers (Box Plot)"
   ]
  },
  {
   "cell_type": "code",
   "execution_count": 19,
   "id": "d630e420-3365-499b-9288-1d98a41577b5",
   "metadata": {},
   "outputs": [
    {
     "data": {
      "image/png": "[encoded data removed]",
      "text/plain": [
       "<Figure size 640x480 with 1 Axes>"
      ]
     },
     "metadata": {},
     "output_type": "display_data"
    }
   ],
   "source": [
    "sns.boxplot(X_train[['Age', 'Age_99', 'Age_minus1']]);\n",
    "plt.grid(True);"
   ]
  },
  {
   "cell_type": "code",
   "execution_count": 20,
   "id": "4135a562-0d4a-46bd-90e7-9f6820429d3e",
   "metadata": {},
   "outputs": [
    {
     "data": {
      "image/png": "[encoded data removed]",
      "text/plain": [
       "<Figure size 640x480 with 1 Axes>"
      ]
     },
     "metadata": {},
     "output_type": "display_data"
    }
   ],
   "source": [
    "sns.boxplot(X_train[['Fare', 'Fare_99', 'Fare_minus1']]);\n",
    "plt.grid(True);"
   ]
  },
  {
   "cell_type": "markdown",
   "id": "594e9a40-df00-4af4-8602-58f6c9a21333",
   "metadata": {},
   "source": [
    "* By using arbitrary imputation, the IQR has shrunk, which implies, the values which were not outliers before are now outliers."
   ]
  },
  {
   "cell_type": "markdown",
   "id": "3b5df7d0-a72d-40cf-860b-afc62e46d7d0",
   "metadata": {},
   "source": [
    "#### Conclusion"
   ]
  },
  {
   "cell_type": "markdown",
   "id": "1feaf7ba-196b-4797-a390-7e12013b09e4",
   "metadata": {},
   "source": [
    "Arbitrary imputation is suitable for imputing missing values in the Age variable, as they preserve the original distribution and have minimal impact on key statistical properties such as variance, covariance, and correlation with other features.\n",
    "\n",
    "However, applying arbitrary imputation to the Fare variable is not recommended. Both methods noticeably alter the distribution of Fare, introducing bias and reducing variance. This distortion also affects Fare's covariance with other variables and weakens its correlation structure, potentially impacting the performance and interpretability of downstream models."
   ]
  },
  {
   "cell_type": "markdown",
   "id": "23416709-0f07-4ba3-8427-ecc777cf03c9",
   "metadata": {},
   "source": [
    "### Using Scikit-Learn"
   ]
  },
  {
   "cell_type": "markdown",
   "id": "6263baf5-c53e-4fe8-941d-94e81f936087",
   "metadata": {},
   "source": [
    "#### Train Test Split"
   ]
  },
  {
   "cell_type": "code",
   "execution_count": 21,
   "id": "587f134f-d532-451d-9e14-f6b0089274dc",
   "metadata": {},
   "outputs": [],
   "source": [
    "X_train, X_test, y_train, y_test = train_test_split(X, y, test_size=0.2, random_state=42)"
   ]
  },
  {
   "cell_type": "code",
   "execution_count": 22,
   "id": "77fd4637-d2b6-41a9-a417-df5690224e6b",
   "metadata": {},
   "outputs": [
    {
     "data": {
      "text/plain": [
       "((712, 3), (179, 3), (712,), (179,))"
      ]
     },
     "execution_count": 22,
     "metadata": {},
     "output_type": "execute_result"
    }
   ],
   "source": [
    "X_train.shape, X_test.shape, y_train.shape, y_test.shape"
   ]
  },
  {
   "cell_type": "markdown",
   "id": "142cdb1f-cd60-4e7d-bd49-f3f387b1380e",
   "metadata": {},
   "source": [
    "#### Simple Imputer"
   ]
  },
  {
   "cell_type": "code",
   "execution_count": 23,
   "id": "71315a98-a193-442d-872a-54c42e882127",
   "metadata": {},
   "outputs": [],
   "source": [
    "imputer_99 = SimpleImputer(strategy='constant', fill_value=99)\n",
    "imputer_999 = SimpleImputer(strategy='constant', fill_value=999)"
   ]
  },
  {
   "cell_type": "code",
   "execution_count": 24,
   "id": "57f1dbdb-e3d0-4bfa-8287-0f9361071d08",
   "metadata": {},
   "outputs": [],
   "source": [
    "transformer = ColumnTransformer(\n",
    "    transformers=[\n",
    "        ('Imputer_99', imputer_99, ['Age']),\n",
    "        ('Imputer_999', imputer_999, ['Fare'])\n",
    "    ],\n",
    "    remainder='passthrough',\n",
    "    verbose_feature_names_out=True,\n",
    "    verbose=True\n",
    ")"
   ]
  },
  {
   "cell_type": "code",
   "execution_count": 25,
   "id": "3721ad01-cde3-414a-8c92-bfa5a04c0398",
   "metadata": {},
   "outputs": [
    {
     "name": "stdout",
     "output_type": "stream",
     "text": [
      "[ColumnTransformer] .... (1 of 3) Processing Imputer_99, total=   0.0s\n",
      "[ColumnTransformer] ... (2 of 3) Processing Imputer_999, total=   0.0s\n",
      "[ColumnTransformer] ..... (3 of 3) Processing remainder, total=   0.0s\n"
     ]
    }
   ],
   "source": [
    "X_train = transformer.fit_transform(X_train)\n",
    "X_test = transformer.transform(X_test)"
   ]
  },
  {
   "cell_type": "code",
   "execution_count": 26,
   "id": "7765314f-a731-4a93-9d9f-bf5bc2a23a71",
   "metadata": {},
   "outputs": [
    {
     "data": {
      "text/plain": [
       "array([99.])"
      ]
     },
     "execution_count": 26,
     "metadata": {},
     "output_type": "execute_result"
    }
   ],
   "source": [
    "transformer.named_transformers_['Imputer_99'].statistics_"
   ]
  },
  {
   "cell_type": "code",
   "execution_count": 27,
   "id": "9a42531e-6879-4c88-9fc6-7b8339278912",
   "metadata": {},
   "outputs": [
    {
     "data": {
      "text/plain": [
       "array([999.])"
      ]
     },
     "execution_count": 27,
     "metadata": {},
     "output_type": "execute_result"
    }
   ],
   "source": [
    "transformer.named_transformers_['Imputer_999'].statistics_"
   ]
  },
  {
   "cell_type": "code",
   "execution_count": 28,
   "id": "67d016d8-9c13-4883-ba73-6f8a27c6a3fd",
   "metadata": {},
   "outputs": [
    {
     "data": {
      "text/plain": [
       "array([[ 45.5   ,  28.5   ,   0.    ],\n",
       "       [ 23.    ,  13.    ,   0.    ],\n",
       "       [ 32.    ,   7.925 ,   0.    ],\n",
       "       ...,\n",
       "       [ 41.    , 999.    ,   2.    ],\n",
       "       [ 14.    , 120.    ,   3.    ],\n",
       "       [ 21.    ,  77.2875,   1.    ]])"
      ]
     },
     "execution_count": 28,
     "metadata": {},
     "output_type": "execute_result"
    }
   ],
   "source": [
    "X_train"
   ]
  },
  {
   "cell_type": "code",
   "execution_count": null,
   "id": "06031aa0-f899-4d18-95fa-d54b34f97829",
   "metadata": {},
   "outputs": [],
   "source": []
  },
  {
   "cell_type": "code",
   "execution_count": null,
   "id": "37dd2021-e135-4dbc-98e8-b9b51fc1dcc0",
   "metadata": {},
   "outputs": [],
   "source": []
  }
 ],
 "metadata": {
  "kernelspec": {
   "display_name": "Python 3 (ipykernel)",
   "language": "python",
   "name": "python3"
  },
  "language_info": {
   "codemirror_mode": {
    "name": "ipython",
    "version": 3
   },
   "file_extension": ".py",
   "mimetype": "text/x-python",
   "name": "python",
   "nbconvert_exporter": "python",
   "pygments_lexer": "ipython3",
   "version": "3.12.7"
  }
 },
 "nbformat": 4,
 "nbformat_minor": 5
}
