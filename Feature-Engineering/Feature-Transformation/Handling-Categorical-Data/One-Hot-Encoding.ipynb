{
 "cells": [
  {
   "cell_type": "markdown",
   "id": "bc79d403-1f3b-4445-a346-30fd12983eb5",
   "metadata": {},
   "source": [
    "### Import the libraries"
   ]
  },
  {
   "cell_type": "code",
   "execution_count": 1,
   "id": "f7d86ed1-72f4-4de4-8cd7-d903fa1b6c52",
   "metadata": {},
   "outputs": [],
   "source": [
    "import pandas as pd\n",
    "import numpy as np\n",
    "from sklearn.model_selection import train_test_split\n",
    "from sklearn.preprocessing import OneHotEncoder"
   ]
  },
  {
   "cell_type": "markdown",
   "id": "6c0c2611-2ae7-44da-8446-74611d913300",
   "metadata": {},
   "source": [
    "### Load the dataset"
   ]
  },
  {
   "cell_type": "code",
   "execution_count": 2,
   "id": "1873be82-4fd0-46a1-8282-4b4eda9d2ac4",
   "metadata": {},
   "outputs": [],
   "source": [
    "df = pd.read_csv(r'data/cars.csv')"
   ]
  },
  {
   "cell_type": "code",
   "execution_count": 3,
   "id": "56e30e78-3b64-4fce-acb3-d7c2504d6115",
   "metadata": {},
   "outputs": [
    {
     "data": {
      "text/html": [
       "<div>\n",
       "<style scoped>\n",
       "    .dataframe tbody tr th:only-of-type {\n",
       "        vertical-align: middle;\n",
       "    }\n",
       "\n",
       "    .dataframe tbody tr th {\n",
       "        vertical-align: top;\n",
       "    }\n",
       "\n",
       "    .dataframe thead th {\n",
       "        text-align: right;\n",
       "    }\n",
       "</style>\n",
       "<table border=\"1\" class=\"dataframe\">\n",
       "  <thead>\n",
       "    <tr style=\"text-align: right;\">\n",
       "      <th></th>\n",
       "      <th>brand</th>\n",
       "      <th>km_driven</th>\n",
       "      <th>fuel</th>\n",
       "      <th>owner</th>\n",
       "      <th>selling_price</th>\n",
       "    </tr>\n",
       "  </thead>\n",
       "  <tbody>\n",
       "    <tr>\n",
       "      <th>0</th>\n",
       "      <td>Maruti</td>\n",
       "      <td>145500</td>\n",
       "      <td>Diesel</td>\n",
       "      <td>First Owner</td>\n",
       "      <td>450000</td>\n",
       "    </tr>\n",
       "    <tr>\n",
       "      <th>1</th>\n",
       "      <td>Skoda</td>\n",
       "      <td>120000</td>\n",
       "      <td>Diesel</td>\n",
       "      <td>Second Owner</td>\n",
       "      <td>370000</td>\n",
       "    </tr>\n",
       "    <tr>\n",
       "      <th>2</th>\n",
       "      <td>Honda</td>\n",
       "      <td>140000</td>\n",
       "      <td>Petrol</td>\n",
       "      <td>Third Owner</td>\n",
       "      <td>158000</td>\n",
       "    </tr>\n",
       "    <tr>\n",
       "      <th>3</th>\n",
       "      <td>Hyundai</td>\n",
       "      <td>127000</td>\n",
       "      <td>Diesel</td>\n",
       "      <td>First Owner</td>\n",
       "      <td>225000</td>\n",
       "    </tr>\n",
       "    <tr>\n",
       "      <th>4</th>\n",
       "      <td>Maruti</td>\n",
       "      <td>120000</td>\n",
       "      <td>Petrol</td>\n",
       "      <td>First Owner</td>\n",
       "      <td>130000</td>\n",
       "    </tr>\n",
       "  </tbody>\n",
       "</table>\n",
       "</div>"
      ],
      "text/plain": [
       "     brand  km_driven    fuel         owner  selling_price\n",
       "0   Maruti     145500  Diesel   First Owner         450000\n",
       "1    Skoda     120000  Diesel  Second Owner         370000\n",
       "2    Honda     140000  Petrol   Third Owner         158000\n",
       "3  Hyundai     127000  Diesel   First Owner         225000\n",
       "4   Maruti     120000  Petrol   First Owner         130000"
      ]
     },
     "execution_count": 3,
     "metadata": {},
     "output_type": "execute_result"
    }
   ],
   "source": [
    "df.head()"
   ]
  },
  {
   "cell_type": "code",
   "execution_count": 4,
   "id": "66a29ceb-a9f4-4ddc-a5d0-ac931c38a8a8",
   "metadata": {},
   "outputs": [
    {
     "data": {
      "text/plain": [
       "array(['Maruti', 'Skoda', 'Honda', 'Hyundai', 'Toyota', 'Ford', 'Renault',\n",
       "       'Mahindra', 'Tata', 'Chevrolet', 'Fiat', 'Datsun', 'Jeep',\n",
       "       'Mercedes-Benz', 'Mitsubishi', 'Audi', 'Volkswagen', 'BMW',\n",
       "       'Nissan', 'Lexus', 'Jaguar', 'Land', 'MG', 'Volvo', 'Daewoo',\n",
       "       'Kia', 'Force', 'Ambassador', 'Ashok', 'Isuzu', 'Opel', 'Peugeot'],\n",
       "      dtype=object)"
      ]
     },
     "execution_count": 4,
     "metadata": {},
     "output_type": "execute_result"
    }
   ],
   "source": [
    "df.brand.unique()"
   ]
  },
  {
   "cell_type": "code",
   "execution_count": 5,
   "id": "923e66bd-72e0-4a13-bb39-176c93e0fdff",
   "metadata": {},
   "outputs": [
    {
     "data": {
      "text/plain": [
       "array(['Diesel', 'Petrol', 'LPG', 'CNG'], dtype=object)"
      ]
     },
     "execution_count": 5,
     "metadata": {},
     "output_type": "execute_result"
    }
   ],
   "source": [
    "df.fuel.unique()"
   ]
  },
  {
   "cell_type": "code",
   "execution_count": 6,
   "id": "789547cc-e1fb-41c2-bf2f-9f3ca7d66d84",
   "metadata": {},
   "outputs": [
    {
     "data": {
      "text/plain": [
       "array(['First Owner', 'Second Owner', 'Third Owner',\n",
       "       'Fourth & Above Owner', 'Test Drive Car'], dtype=object)"
      ]
     },
     "execution_count": 6,
     "metadata": {},
     "output_type": "execute_result"
    }
   ],
   "source": [
    "df.owner.unique()"
   ]
  },
  {
   "cell_type": "markdown",
   "id": "37b74a60-bda9-4909-b64a-57933ed4669d",
   "metadata": {},
   "source": [
    "### One-Hot Encoding using Pandas"
   ]
  },
  {
   "cell_type": "code",
   "execution_count": 7,
   "id": "5ada61cd-eea5-4cfd-81cb-191fb78a5895",
   "metadata": {},
   "outputs": [
    {
     "data": {
      "text/html": [
       "<div>\n",
       "<style scoped>\n",
       "    .dataframe tbody tr th:only-of-type {\n",
       "        vertical-align: middle;\n",
       "    }\n",
       "\n",
       "    .dataframe tbody tr th {\n",
       "        vertical-align: top;\n",
       "    }\n",
       "\n",
       "    .dataframe thead th {\n",
       "        text-align: right;\n",
       "    }\n",
       "</style>\n",
       "<table border=\"1\" class=\"dataframe\">\n",
       "  <thead>\n",
       "    <tr style=\"text-align: right;\">\n",
       "      <th></th>\n",
       "      <th>brand</th>\n",
       "      <th>km_driven</th>\n",
       "      <th>selling_price</th>\n",
       "      <th>fuel_CNG</th>\n",
       "      <th>fuel_Diesel</th>\n",
       "      <th>fuel_LPG</th>\n",
       "      <th>fuel_Petrol</th>\n",
       "      <th>owner_First Owner</th>\n",
       "      <th>owner_Fourth &amp; Above Owner</th>\n",
       "      <th>owner_Second Owner</th>\n",
       "      <th>owner_Test Drive Car</th>\n",
       "      <th>owner_Third Owner</th>\n",
       "    </tr>\n",
       "  </thead>\n",
       "  <tbody>\n",
       "    <tr>\n",
       "      <th>0</th>\n",
       "      <td>Maruti</td>\n",
       "      <td>145500</td>\n",
       "      <td>450000</td>\n",
       "      <td>0</td>\n",
       "      <td>1</td>\n",
       "      <td>0</td>\n",
       "      <td>0</td>\n",
       "      <td>1</td>\n",
       "      <td>0</td>\n",
       "      <td>0</td>\n",
       "      <td>0</td>\n",
       "      <td>0</td>\n",
       "    </tr>\n",
       "    <tr>\n",
       "      <th>1</th>\n",
       "      <td>Skoda</td>\n",
       "      <td>120000</td>\n",
       "      <td>370000</td>\n",
       "      <td>0</td>\n",
       "      <td>1</td>\n",
       "      <td>0</td>\n",
       "      <td>0</td>\n",
       "      <td>0</td>\n",
       "      <td>0</td>\n",
       "      <td>1</td>\n",
       "      <td>0</td>\n",
       "      <td>0</td>\n",
       "    </tr>\n",
       "    <tr>\n",
       "      <th>2</th>\n",
       "      <td>Honda</td>\n",
       "      <td>140000</td>\n",
       "      <td>158000</td>\n",
       "      <td>0</td>\n",
       "      <td>0</td>\n",
       "      <td>0</td>\n",
       "      <td>1</td>\n",
       "      <td>0</td>\n",
       "      <td>0</td>\n",
       "      <td>0</td>\n",
       "      <td>0</td>\n",
       "      <td>1</td>\n",
       "    </tr>\n",
       "    <tr>\n",
       "      <th>3</th>\n",
       "      <td>Hyundai</td>\n",
       "      <td>127000</td>\n",
       "      <td>225000</td>\n",
       "      <td>0</td>\n",
       "      <td>1</td>\n",
       "      <td>0</td>\n",
       "      <td>0</td>\n",
       "      <td>1</td>\n",
       "      <td>0</td>\n",
       "      <td>0</td>\n",
       "      <td>0</td>\n",
       "      <td>0</td>\n",
       "    </tr>\n",
       "    <tr>\n",
       "      <th>4</th>\n",
       "      <td>Maruti</td>\n",
       "      <td>120000</td>\n",
       "      <td>130000</td>\n",
       "      <td>0</td>\n",
       "      <td>0</td>\n",
       "      <td>0</td>\n",
       "      <td>1</td>\n",
       "      <td>1</td>\n",
       "      <td>0</td>\n",
       "      <td>0</td>\n",
       "      <td>0</td>\n",
       "      <td>0</td>\n",
       "    </tr>\n",
       "  </tbody>\n",
       "</table>\n",
       "</div>"
      ],
      "text/plain": [
       "     brand  km_driven  selling_price  fuel_CNG  fuel_Diesel  fuel_LPG  \\\n",
       "0   Maruti     145500         450000         0            1         0   \n",
       "1    Skoda     120000         370000         0            1         0   \n",
       "2    Honda     140000         158000         0            0         0   \n",
       "3  Hyundai     127000         225000         0            1         0   \n",
       "4   Maruti     120000         130000         0            0         0   \n",
       "\n",
       "   fuel_Petrol  owner_First Owner  owner_Fourth & Above Owner  \\\n",
       "0            0                  1                           0   \n",
       "1            0                  0                           0   \n",
       "2            1                  0                           0   \n",
       "3            0                  1                           0   \n",
       "4            1                  1                           0   \n",
       "\n",
       "   owner_Second Owner  owner_Test Drive Car  owner_Third Owner  \n",
       "0                   0                     0                  0  \n",
       "1                   1                     0                  0  \n",
       "2                   0                     0                  1  \n",
       "3                   0                     0                  0  \n",
       "4                   0                     0                  0  "
      ]
     },
     "execution_count": 7,
     "metadata": {},
     "output_type": "execute_result"
    }
   ],
   "source": [
    "pd.get_dummies(data=df, columns=['fuel', 'owner'], dtype=np.int32).head()"
   ]
  },
  {
   "cell_type": "markdown",
   "id": "0787c8b8-93c2-41a8-a69e-adbdc857b539",
   "metadata": {},
   "source": [
    "### k-1 One-Hot Encoding using Pandas "
   ]
  },
  {
   "cell_type": "code",
   "execution_count": 8,
   "id": "1fcbc73e-4256-4bff-9bc7-dd1f9ed8ed78",
   "metadata": {},
   "outputs": [
    {
     "data": {
      "text/html": [
       "<div>\n",
       "<style scoped>\n",
       "    .dataframe tbody tr th:only-of-type {\n",
       "        vertical-align: middle;\n",
       "    }\n",
       "\n",
       "    .dataframe tbody tr th {\n",
       "        vertical-align: top;\n",
       "    }\n",
       "\n",
       "    .dataframe thead th {\n",
       "        text-align: right;\n",
       "    }\n",
       "</style>\n",
       "<table border=\"1\" class=\"dataframe\">\n",
       "  <thead>\n",
       "    <tr style=\"text-align: right;\">\n",
       "      <th></th>\n",
       "      <th>brand</th>\n",
       "      <th>km_driven</th>\n",
       "      <th>selling_price</th>\n",
       "      <th>fuel_Diesel</th>\n",
       "      <th>fuel_LPG</th>\n",
       "      <th>fuel_Petrol</th>\n",
       "      <th>owner_Fourth &amp; Above Owner</th>\n",
       "      <th>owner_Second Owner</th>\n",
       "      <th>owner_Test Drive Car</th>\n",
       "      <th>owner_Third Owner</th>\n",
       "    </tr>\n",
       "  </thead>\n",
       "  <tbody>\n",
       "    <tr>\n",
       "      <th>0</th>\n",
       "      <td>Maruti</td>\n",
       "      <td>145500</td>\n",
       "      <td>450000</td>\n",
       "      <td>1</td>\n",
       "      <td>0</td>\n",
       "      <td>0</td>\n",
       "      <td>0</td>\n",
       "      <td>0</td>\n",
       "      <td>0</td>\n",
       "      <td>0</td>\n",
       "    </tr>\n",
       "    <tr>\n",
       "      <th>1</th>\n",
       "      <td>Skoda</td>\n",
       "      <td>120000</td>\n",
       "      <td>370000</td>\n",
       "      <td>1</td>\n",
       "      <td>0</td>\n",
       "      <td>0</td>\n",
       "      <td>0</td>\n",
       "      <td>1</td>\n",
       "      <td>0</td>\n",
       "      <td>0</td>\n",
       "    </tr>\n",
       "    <tr>\n",
       "      <th>2</th>\n",
       "      <td>Honda</td>\n",
       "      <td>140000</td>\n",
       "      <td>158000</td>\n",
       "      <td>0</td>\n",
       "      <td>0</td>\n",
       "      <td>1</td>\n",
       "      <td>0</td>\n",
       "      <td>0</td>\n",
       "      <td>0</td>\n",
       "      <td>1</td>\n",
       "    </tr>\n",
       "    <tr>\n",
       "      <th>3</th>\n",
       "      <td>Hyundai</td>\n",
       "      <td>127000</td>\n",
       "      <td>225000</td>\n",
       "      <td>1</td>\n",
       "      <td>0</td>\n",
       "      <td>0</td>\n",
       "      <td>0</td>\n",
       "      <td>0</td>\n",
       "      <td>0</td>\n",
       "      <td>0</td>\n",
       "    </tr>\n",
       "    <tr>\n",
       "      <th>4</th>\n",
       "      <td>Maruti</td>\n",
       "      <td>120000</td>\n",
       "      <td>130000</td>\n",
       "      <td>0</td>\n",
       "      <td>0</td>\n",
       "      <td>1</td>\n",
       "      <td>0</td>\n",
       "      <td>0</td>\n",
       "      <td>0</td>\n",
       "      <td>0</td>\n",
       "    </tr>\n",
       "  </tbody>\n",
       "</table>\n",
       "</div>"
      ],
      "text/plain": [
       "     brand  km_driven  selling_price  fuel_Diesel  fuel_LPG  fuel_Petrol  \\\n",
       "0   Maruti     145500         450000            1         0            0   \n",
       "1    Skoda     120000         370000            1         0            0   \n",
       "2    Honda     140000         158000            0         0            1   \n",
       "3  Hyundai     127000         225000            1         0            0   \n",
       "4   Maruti     120000         130000            0         0            1   \n",
       "\n",
       "   owner_Fourth & Above Owner  owner_Second Owner  owner_Test Drive Car  \\\n",
       "0                           0                   0                     0   \n",
       "1                           0                   1                     0   \n",
       "2                           0                   0                     0   \n",
       "3                           0                   0                     0   \n",
       "4                           0                   0                     0   \n",
       "\n",
       "   owner_Third Owner  \n",
       "0                  0  \n",
       "1                  0  \n",
       "2                  1  \n",
       "3                  0  \n",
       "4                  0  "
      ]
     },
     "execution_count": 8,
     "metadata": {},
     "output_type": "execute_result"
    }
   ],
   "source": [
    "pd.get_dummies(data=df, columns=['fuel', 'owner'], dtype=np.int32, drop_first=True).head()"
   ]
  },
  {
   "cell_type": "markdown",
   "id": "6cd53230-0f67-4260-b74d-370854c8908a",
   "metadata": {},
   "source": [
    "### Train Test Split"
   ]
  },
  {
   "cell_type": "code",
   "execution_count": 9,
   "id": "8cf4704d-2ab9-4c08-8454-a29bdfd77cc4",
   "metadata": {},
   "outputs": [],
   "source": [
    "X, y = df.iloc[:, 0:4], df.iloc[:, -1]"
   ]
  },
  {
   "cell_type": "markdown",
   "id": "8095ce78-0e49-43bb-b9bc-4af47feca5b2",
   "metadata": {},
   "source": [
    "### One-Hot Encoding using Scikit-Learn"
   ]
  },
  {
   "cell_type": "code",
   "execution_count": 10,
   "id": "67484570-4208-444e-a9a7-d1c689b7bec0",
   "metadata": {},
   "outputs": [
    {
     "data": {
      "text/plain": [
       "((6502, 4), (1626, 4), (6502,), (1626,))"
      ]
     },
     "execution_count": 10,
     "metadata": {},
     "output_type": "execute_result"
    }
   ],
   "source": [
    "X_train, X_test, y_train, y_test = train_test_split(X, y, test_size=0.2, random_state=42)\n",
    "X_train.shape, X_test.shape, y_train.shape, y_test.shape"
   ]
  },
  {
   "cell_type": "code",
   "execution_count": 11,
   "id": "54ca5fbc-e07e-48f6-a047-b136b7e74903",
   "metadata": {},
   "outputs": [],
   "source": [
    "ohe = OneHotEncoder(drop='first', sparse_output=False, dtype=np.int32)\n",
    "X_train = ohe.fit_transform(X_train[['fuel', 'owner']])\n",
    "X_test = ohe.fit_transform(X_test[['fuel', 'owner']])"
   ]
  },
  {
   "cell_type": "code",
   "execution_count": 12,
   "id": "a24e2e54-ac73-4dfd-931c-8535a49cc89c",
   "metadata": {},
   "outputs": [
    {
     "data": {
      "text/plain": [
       "(6502, 7)"
      ]
     },
     "execution_count": 12,
     "metadata": {},
     "output_type": "execute_result"
    }
   ],
   "source": [
    "X_train.shape"
   ]
  },
  {
   "cell_type": "code",
   "execution_count": 13,
   "id": "83edfa41-df2a-4f82-b530-1dcce215c44e",
   "metadata": {},
   "outputs": [
    {
     "data": {
      "text/plain": [
       "(1626, 7)"
      ]
     },
     "execution_count": 13,
     "metadata": {},
     "output_type": "execute_result"
    }
   ],
   "source": [
    "X_test.shape"
   ]
  },
  {
   "cell_type": "code",
   "execution_count": 14,
   "id": "009277dd-740e-4824-b6ae-95f406f75212",
   "metadata": {},
   "outputs": [
    {
     "data": {
      "text/plain": [
       "array([[0, 0, 1, ..., 0, 0, 0],\n",
       "       [0, 0, 1, ..., 1, 0, 0],\n",
       "       [1, 0, 0, ..., 0, 0, 0],\n",
       "       ...,\n",
       "       [0, 0, 1, ..., 0, 0, 0],\n",
       "       [1, 0, 0, ..., 0, 0, 0],\n",
       "       [0, 0, 1, ..., 1, 0, 0]])"
      ]
     },
     "execution_count": 14,
     "metadata": {},
     "output_type": "execute_result"
    }
   ],
   "source": [
    "X_train"
   ]
  },
  {
   "cell_type": "code",
   "execution_count": 15,
   "id": "3d20ab1b-6a7a-4b83-87bf-11d832d5ad68",
   "metadata": {},
   "outputs": [
    {
     "data": {
      "text/plain": [
       "array([[0, 0, 1, ..., 0, 0, 1],\n",
       "       [1, 0, 0, ..., 0, 0, 0],\n",
       "       [1, 0, 0, ..., 0, 0, 0],\n",
       "       ...,\n",
       "       [0, 0, 1, ..., 0, 0, 0],\n",
       "       [0, 0, 1, ..., 0, 0, 0],\n",
       "       [0, 0, 1, ..., 1, 0, 0]])"
      ]
     },
     "execution_count": 15,
     "metadata": {},
     "output_type": "execute_result"
    }
   ],
   "source": [
    "X_test"
   ]
  },
  {
   "cell_type": "code",
   "execution_count": 16,
   "id": "bd8f5272-df62-4333-a8ed-d9282d4b5c7d",
   "metadata": {},
   "outputs": [
    {
     "data": {
      "text/plain": [
       "(numpy.ndarray, numpy.ndarray)"
      ]
     },
     "execution_count": 16,
     "metadata": {},
     "output_type": "execute_result"
    }
   ],
   "source": [
    "type(X_train), type(X_test)"
   ]
  },
  {
   "cell_type": "markdown",
   "id": "0aafe458-2ff2-45ae-af43-3ae7cf05a2d7",
   "metadata": {},
   "source": [
    "* See this for reference - https://medium.com/aiskunks/categorical-data-encoding-techniques-d6296697a40f"
   ]
  },
  {
   "cell_type": "code",
   "execution_count": null,
   "id": "e7a2593b-0581-4078-b2ce-32e51dd50cd2",
   "metadata": {},
   "outputs": [],
   "source": []
  }
 ],
 "metadata": {
  "kernelspec": {
   "display_name": "Python 3 (ipykernel)",
   "language": "python",
   "name": "python3"
  },
  "language_info": {
   "codemirror_mode": {
    "name": "ipython",
    "version": 3
   },
   "file_extension": ".py",
   "mimetype": "text/x-python",
   "name": "python",
   "nbconvert_exporter": "python",
   "pygments_lexer": "ipython3",
   "version": "3.12.7"
  }
 },
 "nbformat": 4,
 "nbformat_minor": 5
}
