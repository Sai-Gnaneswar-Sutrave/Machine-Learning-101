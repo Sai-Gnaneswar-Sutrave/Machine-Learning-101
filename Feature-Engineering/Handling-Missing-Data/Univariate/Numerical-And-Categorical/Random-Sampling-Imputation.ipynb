{
 "cells": [
  {
   "cell_type": "markdown",
   "id": "08767d6d-816a-4a26-9524-b93914224c5d",
   "metadata": {},
   "source": [
    "### Import the libraries"
   ]
  },
  {
   "cell_type": "code",
   "execution_count": 1,
   "id": "98e1cff4-ca7d-4b62-bc83-1f6cbfde0a42",
   "metadata": {},
   "outputs": [],
   "source": [
    "import numpy as np\n",
    "import pandas as pd\n",
    "import matplotlib.pyplot as plt\n",
    "import seaborn as sns\n",
    "\n",
    "from sklearn.model_selection import train_test_split\n",
    "\n",
    "import warnings\n",
    "warnings.filterwarnings('ignore')"
   ]
  },
  {
   "cell_type": "markdown",
   "id": "ecf71829-a8fe-479c-8b00-38afd580505a",
   "metadata": {},
   "source": [
    "### Random Sampling Imputation - Numerical"
   ]
  },
  {
   "cell_type": "markdown",
   "id": "ae282648-2412-4b27-a6df-d277fb5cd5a1",
   "metadata": {},
   "source": [
    "#### Load the dataset"
   ]
  },
  {
   "cell_type": "code",
   "execution_count": 2,
   "id": "62b8e5c1-2ddf-4cf5-a4a6-8bb4350247a6",
   "metadata": {},
   "outputs": [],
   "source": [
    "df = pd.read_csv(r'data/train.csv', usecols=['Age', 'Fare', 'Survived'])"
   ]
  },
  {
   "cell_type": "code",
   "execution_count": 3,
   "id": "58aa8504-edd9-4c17-9309-cfed1db51052",
   "metadata": {},
   "outputs": [
    {
     "data": {
      "text/html": [
       "<div>\n",
       "<style scoped>\n",
       "    .dataframe tbody tr th:only-of-type {\n",
       "        vertical-align: middle;\n",
       "    }\n",
       "\n",
       "    .dataframe tbody tr th {\n",
       "        vertical-align: top;\n",
       "    }\n",
       "\n",
       "    .dataframe thead th {\n",
       "        text-align: right;\n",
       "    }\n",
       "</style>\n",
       "<table border=\"1\" class=\"dataframe\">\n",
       "  <thead>\n",
       "    <tr style=\"text-align: right;\">\n",
       "      <th></th>\n",
       "      <th>Survived</th>\n",
       "      <th>Age</th>\n",
       "      <th>Fare</th>\n",
       "    </tr>\n",
       "  </thead>\n",
       "  <tbody>\n",
       "    <tr>\n",
       "      <th>0</th>\n",
       "      <td>0</td>\n",
       "      <td>22.0</td>\n",
       "      <td>7.2500</td>\n",
       "    </tr>\n",
       "    <tr>\n",
       "      <th>1</th>\n",
       "      <td>1</td>\n",
       "      <td>38.0</td>\n",
       "      <td>71.2833</td>\n",
       "    </tr>\n",
       "    <tr>\n",
       "      <th>2</th>\n",
       "      <td>1</td>\n",
       "      <td>26.0</td>\n",
       "      <td>7.9250</td>\n",
       "    </tr>\n",
       "    <tr>\n",
       "      <th>3</th>\n",
       "      <td>1</td>\n",
       "      <td>35.0</td>\n",
       "      <td>53.1000</td>\n",
       "    </tr>\n",
       "    <tr>\n",
       "      <th>4</th>\n",
       "      <td>0</td>\n",
       "      <td>35.0</td>\n",
       "      <td>8.0500</td>\n",
       "    </tr>\n",
       "  </tbody>\n",
       "</table>\n",
       "</div>"
      ],
      "text/plain": [
       "   Survived   Age     Fare\n",
       "0         0  22.0   7.2500\n",
       "1         1  38.0  71.2833\n",
       "2         1  26.0   7.9250\n",
       "3         1  35.0  53.1000\n",
       "4         0  35.0   8.0500"
      ]
     },
     "execution_count": 3,
     "metadata": {},
     "output_type": "execute_result"
    }
   ],
   "source": [
    "df.head()"
   ]
  },
  {
   "cell_type": "code",
   "execution_count": 4,
   "id": "d04628d4-d345-4f43-a7bf-f9dcc57b981c",
   "metadata": {},
   "outputs": [
    {
     "data": {
      "text/plain": [
       "Survived     0.00000\n",
       "Age         19.86532\n",
       "Fare         0.00000\n",
       "dtype: float64"
      ]
     },
     "execution_count": 4,
     "metadata": {},
     "output_type": "execute_result"
    }
   ],
   "source": [
    "df.isnull().mean() * 100"
   ]
  },
  {
   "cell_type": "markdown",
   "id": "65a37906-6525-4d77-a67f-083daa33792c",
   "metadata": {},
   "source": [
    "#### Train Test Split"
   ]
  },
  {
   "cell_type": "code",
   "execution_count": 5,
   "id": "1b0569ea-e7ce-4110-ad2d-2a44d415904e",
   "metadata": {},
   "outputs": [],
   "source": [
    "X = df.drop('Survived', axis=1)\n",
    "y = df['Survived']"
   ]
  },
  {
   "cell_type": "code",
   "execution_count": 6,
   "id": "6b8170d9-b3b1-4001-b693-025dc8d36815",
   "metadata": {},
   "outputs": [],
   "source": [
    "X_train, X_test, y_train, y_test = train_test_split(X, y, test_size=0.2, random_state=42)"
   ]
  },
  {
   "cell_type": "code",
   "execution_count": 7,
   "id": "07c96ce9-3e4a-4498-9def-28cdfed64eec",
   "metadata": {},
   "outputs": [
    {
     "data": {
      "text/plain": [
       "((712, 2), (179, 2), (712,), (179,))"
      ]
     },
     "execution_count": 7,
     "metadata": {},
     "output_type": "execute_result"
    }
   ],
   "source": [
    "X_train.shape, X_test.shape, y_train.shape, y_test.shape"
   ]
  },
  {
   "cell_type": "code",
   "execution_count": 8,
   "id": "77045f19-cc60-416e-81e8-d1a118131aba",
   "metadata": {},
   "outputs": [],
   "source": [
    "# Creating new column for imputing \n",
    "X_train['Age_Imputed'] = X_train['Age']\n",
    "X_test['Age_Imputed'] = X_test['Age']"
   ]
  },
  {
   "cell_type": "code",
   "execution_count": 9,
   "id": "18084caa-9ac5-45dd-a763-c38e8429287e",
   "metadata": {},
   "outputs": [
    {
     "data": {
      "text/html": [
       "<div>\n",
       "<style scoped>\n",
       "    .dataframe tbody tr th:only-of-type {\n",
       "        vertical-align: middle;\n",
       "    }\n",
       "\n",
       "    .dataframe tbody tr th {\n",
       "        vertical-align: top;\n",
       "    }\n",
       "\n",
       "    .dataframe thead th {\n",
       "        text-align: right;\n",
       "    }\n",
       "</style>\n",
       "<table border=\"1\" class=\"dataframe\">\n",
       "  <thead>\n",
       "    <tr style=\"text-align: right;\">\n",
       "      <th></th>\n",
       "      <th>Age</th>\n",
       "      <th>Fare</th>\n",
       "      <th>Age_Imputed</th>\n",
       "    </tr>\n",
       "  </thead>\n",
       "  <tbody>\n",
       "    <tr>\n",
       "      <th>331</th>\n",
       "      <td>45.5</td>\n",
       "      <td>28.5000</td>\n",
       "      <td>45.5</td>\n",
       "    </tr>\n",
       "    <tr>\n",
       "      <th>733</th>\n",
       "      <td>23.0</td>\n",
       "      <td>13.0000</td>\n",
       "      <td>23.0</td>\n",
       "    </tr>\n",
       "    <tr>\n",
       "      <th>382</th>\n",
       "      <td>32.0</td>\n",
       "      <td>7.9250</td>\n",
       "      <td>32.0</td>\n",
       "    </tr>\n",
       "    <tr>\n",
       "      <th>704</th>\n",
       "      <td>26.0</td>\n",
       "      <td>7.8542</td>\n",
       "      <td>26.0</td>\n",
       "    </tr>\n",
       "    <tr>\n",
       "      <th>813</th>\n",
       "      <td>6.0</td>\n",
       "      <td>31.2750</td>\n",
       "      <td>6.0</td>\n",
       "    </tr>\n",
       "  </tbody>\n",
       "</table>\n",
       "</div>"
      ],
      "text/plain": [
       "      Age     Fare  Age_Imputed\n",
       "331  45.5  28.5000         45.5\n",
       "733  23.0  13.0000         23.0\n",
       "382  32.0   7.9250         32.0\n",
       "704  26.0   7.8542         26.0\n",
       "813   6.0  31.2750          6.0"
      ]
     },
     "execution_count": 9,
     "metadata": {},
     "output_type": "execute_result"
    }
   ],
   "source": [
    "X_train.head()"
   ]
  },
  {
   "cell_type": "code",
   "execution_count": 10,
   "id": "cfc64b3d-3afc-4673-b1d2-5a3d07689eb7",
   "metadata": {},
   "outputs": [
    {
     "data": {
      "text/html": [
       "<div>\n",
       "<style scoped>\n",
       "    .dataframe tbody tr th:only-of-type {\n",
       "        vertical-align: middle;\n",
       "    }\n",
       "\n",
       "    .dataframe tbody tr th {\n",
       "        vertical-align: top;\n",
       "    }\n",
       "\n",
       "    .dataframe thead th {\n",
       "        text-align: right;\n",
       "    }\n",
       "</style>\n",
       "<table border=\"1\" class=\"dataframe\">\n",
       "  <thead>\n",
       "    <tr style=\"text-align: right;\">\n",
       "      <th></th>\n",
       "      <th>Age</th>\n",
       "      <th>Fare</th>\n",
       "      <th>Age_Imputed</th>\n",
       "    </tr>\n",
       "  </thead>\n",
       "  <tbody>\n",
       "    <tr>\n",
       "      <th>709</th>\n",
       "      <td>NaN</td>\n",
       "      <td>15.2458</td>\n",
       "      <td>NaN</td>\n",
       "    </tr>\n",
       "    <tr>\n",
       "      <th>439</th>\n",
       "      <td>31.0</td>\n",
       "      <td>10.5000</td>\n",
       "      <td>31.0</td>\n",
       "    </tr>\n",
       "    <tr>\n",
       "      <th>840</th>\n",
       "      <td>20.0</td>\n",
       "      <td>7.9250</td>\n",
       "      <td>20.0</td>\n",
       "    </tr>\n",
       "    <tr>\n",
       "      <th>720</th>\n",
       "      <td>6.0</td>\n",
       "      <td>33.0000</td>\n",
       "      <td>6.0</td>\n",
       "    </tr>\n",
       "    <tr>\n",
       "      <th>39</th>\n",
       "      <td>14.0</td>\n",
       "      <td>11.2417</td>\n",
       "      <td>14.0</td>\n",
       "    </tr>\n",
       "  </tbody>\n",
       "</table>\n",
       "</div>"
      ],
      "text/plain": [
       "      Age     Fare  Age_Imputed\n",
       "709   NaN  15.2458          NaN\n",
       "439  31.0  10.5000         31.0\n",
       "840  20.0   7.9250         20.0\n",
       "720   6.0  33.0000          6.0\n",
       "39   14.0  11.2417         14.0"
      ]
     },
     "execution_count": 10,
     "metadata": {},
     "output_type": "execute_result"
    }
   ],
   "source": [
    "X_test.head()"
   ]
  },
  {
   "cell_type": "code",
   "execution_count": 11,
   "id": "9902fb7d-239a-4792-9d29-0172cd782aba",
   "metadata": {},
   "outputs": [
    {
     "data": {
      "text/plain": [
       "29    NaN\n",
       "55    NaN\n",
       "533   NaN\n",
       "495   NaN\n",
       "468   NaN\n",
       "       ..\n",
       "330   NaN\n",
       "214   NaN\n",
       "466   NaN\n",
       "121   NaN\n",
       "270   NaN\n",
       "Name: Age_Imputed, Length: 140, dtype: float64"
      ]
     },
     "execution_count": 11,
     "metadata": {},
     "output_type": "execute_result"
    }
   ],
   "source": [
    "X_train['Age_Imputed'][X_train['Age_Imputed'].isnull()]"
   ]
  },
  {
   "cell_type": "code",
   "execution_count": 12,
   "id": "f037d6f8-6693-4a70-862e-e312896cf507",
   "metadata": {},
   "outputs": [
    {
     "data": {
      "text/plain": [
       "array([ 1.  , 36.  , 33.  ,  2.  , 51.  , 42.  , 35.  , 36.  , 54.  ,\n",
       "       17.  , 24.  , 21.  , 41.  , 32.  , 54.  , 19.  , 45.  , 36.  ,\n",
       "       26.  , 38.  , 33.  , 22.  , 30.  , 25.  , 33.  , 30.  , 24.  ,\n",
       "       25.  , 26.  , 20.  , 34.  , 26.  , 27.  , 42.  , 33.  ,  2.  ,\n",
       "       34.  , 25.  , 16.  , 31.  ,  0.83, 24.  , 44.  , 32.  , 15.  ,\n",
       "       58.  , 55.  , 18.  , 29.  , 36.  , 16.  ,  1.  , 21.  , 22.  ,\n",
       "       25.  , 28.  , 29.  , 17.  , 36.  , 28.  , 27.  , 18.  , 48.  ,\n",
       "       22.  , 28.5 , 39.  , 25.  , 16.  , 28.  , 31.  , 59.  , 21.  ,\n",
       "       33.  , 70.5 , 33.  , 51.  , 37.  , 39.  , 30.  , 50.  , 55.5 ,\n",
       "       19.  , 54.  , 32.5 ,  9.  , 31.  , 38.  , 25.  , 19.  , 43.  ,\n",
       "       47.  , 47.  ,  6.  , 52.  , 27.  ,  4.  , 22.  , 14.5 , 34.  ,\n",
       "       24.  ,  6.  , 44.  , 28.  , 54.  , 22.  , 44.  , 54.  , 27.  ,\n",
       "       33.  , 44.  , 14.  , 35.  , 28.  , 33.  , 19.  , 19.  , 52.  ,\n",
       "       21.  , 26.  , 15.  , 54.  , 32.  , 28.  , 25.  , 28.  , 42.  ,\n",
       "       20.  , 28.  , 22.  , 39.  , 30.  , 49.  , 80.  ,  5.  , 33.  ,\n",
       "       23.  , 19.  , 60.  , 24.  , 34.  ])"
      ]
     },
     "execution_count": 12,
     "metadata": {},
     "output_type": "execute_result"
    }
   ],
   "source": [
    "X_train['Age'].dropna().sample(X_train['Age'].isnull().sum()).values"
   ]
  },
  {
   "cell_type": "code",
   "execution_count": 13,
   "id": "800d62f8-4f0b-4d81-8032-ed84b41c9816",
   "metadata": {},
   "outputs": [],
   "source": [
    "# Filling the missing values in Age_Imputed column with the values from Age column which are not missing\n",
    "X_train['Age_Imputed'][X_train['Age_Imputed'].isnull()] = X_train['Age'].dropna().sample(X_train['Age'].isnull().sum()).values"
   ]
  },
  {
   "cell_type": "code",
   "execution_count": 14,
   "id": "0e0a3a76-3bce-4272-bf7f-ebe34e2cf3c3",
   "metadata": {},
   "outputs": [],
   "source": [
    "X_test['Age_Imputed'][X_test['Age_Imputed'].isnull()] = X_test['Age'].dropna().sample(X_test['Age'].isnull().sum()).values"
   ]
  },
  {
   "cell_type": "code",
   "execution_count": 15,
   "id": "43992319-d80e-4b35-b040-d8aeadb0118d",
   "metadata": {},
   "outputs": [
    {
     "data": {
      "text/html": [
       "<div>\n",
       "<style scoped>\n",
       "    .dataframe tbody tr th:only-of-type {\n",
       "        vertical-align: middle;\n",
       "    }\n",
       "\n",
       "    .dataframe tbody tr th {\n",
       "        vertical-align: top;\n",
       "    }\n",
       "\n",
       "    .dataframe thead th {\n",
       "        text-align: right;\n",
       "    }\n",
       "</style>\n",
       "<table border=\"1\" class=\"dataframe\">\n",
       "  <thead>\n",
       "    <tr style=\"text-align: right;\">\n",
       "      <th></th>\n",
       "      <th>Age</th>\n",
       "      <th>Fare</th>\n",
       "      <th>Age_Imputed</th>\n",
       "    </tr>\n",
       "  </thead>\n",
       "  <tbody>\n",
       "    <tr>\n",
       "      <th>331</th>\n",
       "      <td>45.5</td>\n",
       "      <td>28.5000</td>\n",
       "      <td>45.5</td>\n",
       "    </tr>\n",
       "    <tr>\n",
       "      <th>733</th>\n",
       "      <td>23.0</td>\n",
       "      <td>13.0000</td>\n",
       "      <td>23.0</td>\n",
       "    </tr>\n",
       "    <tr>\n",
       "      <th>382</th>\n",
       "      <td>32.0</td>\n",
       "      <td>7.9250</td>\n",
       "      <td>32.0</td>\n",
       "    </tr>\n",
       "    <tr>\n",
       "      <th>704</th>\n",
       "      <td>26.0</td>\n",
       "      <td>7.8542</td>\n",
       "      <td>26.0</td>\n",
       "    </tr>\n",
       "    <tr>\n",
       "      <th>813</th>\n",
       "      <td>6.0</td>\n",
       "      <td>31.2750</td>\n",
       "      <td>6.0</td>\n",
       "    </tr>\n",
       "  </tbody>\n",
       "</table>\n",
       "</div>"
      ],
      "text/plain": [
       "      Age     Fare  Age_Imputed\n",
       "331  45.5  28.5000         45.5\n",
       "733  23.0  13.0000         23.0\n",
       "382  32.0   7.9250         32.0\n",
       "704  26.0   7.8542         26.0\n",
       "813   6.0  31.2750          6.0"
      ]
     },
     "execution_count": 15,
     "metadata": {},
     "output_type": "execute_result"
    }
   ],
   "source": [
    "X_train.head()"
   ]
  },
  {
   "cell_type": "code",
   "execution_count": 16,
   "id": "25301d9a-ae8a-4e72-b968-5ee406535591",
   "metadata": {},
   "outputs": [
    {
     "data": {
      "text/html": [
       "<div>\n",
       "<style scoped>\n",
       "    .dataframe tbody tr th:only-of-type {\n",
       "        vertical-align: middle;\n",
       "    }\n",
       "\n",
       "    .dataframe tbody tr th {\n",
       "        vertical-align: top;\n",
       "    }\n",
       "\n",
       "    .dataframe thead th {\n",
       "        text-align: right;\n",
       "    }\n",
       "</style>\n",
       "<table border=\"1\" class=\"dataframe\">\n",
       "  <thead>\n",
       "    <tr style=\"text-align: right;\">\n",
       "      <th></th>\n",
       "      <th>Age</th>\n",
       "      <th>Fare</th>\n",
       "      <th>Age_Imputed</th>\n",
       "    </tr>\n",
       "  </thead>\n",
       "  <tbody>\n",
       "    <tr>\n",
       "      <th>709</th>\n",
       "      <td>NaN</td>\n",
       "      <td>15.2458</td>\n",
       "      <td>31.0</td>\n",
       "    </tr>\n",
       "    <tr>\n",
       "      <th>439</th>\n",
       "      <td>31.0</td>\n",
       "      <td>10.5000</td>\n",
       "      <td>31.0</td>\n",
       "    </tr>\n",
       "    <tr>\n",
       "      <th>840</th>\n",
       "      <td>20.0</td>\n",
       "      <td>7.9250</td>\n",
       "      <td>20.0</td>\n",
       "    </tr>\n",
       "    <tr>\n",
       "      <th>720</th>\n",
       "      <td>6.0</td>\n",
       "      <td>33.0000</td>\n",
       "      <td>6.0</td>\n",
       "    </tr>\n",
       "    <tr>\n",
       "      <th>39</th>\n",
       "      <td>14.0</td>\n",
       "      <td>11.2417</td>\n",
       "      <td>14.0</td>\n",
       "    </tr>\n",
       "  </tbody>\n",
       "</table>\n",
       "</div>"
      ],
      "text/plain": [
       "      Age     Fare  Age_Imputed\n",
       "709   NaN  15.2458         31.0\n",
       "439  31.0  10.5000         31.0\n",
       "840  20.0   7.9250         20.0\n",
       "720   6.0  33.0000          6.0\n",
       "39   14.0  11.2417         14.0"
      ]
     },
     "execution_count": 16,
     "metadata": {},
     "output_type": "execute_result"
    }
   ],
   "source": [
    "X_test.head()"
   ]
  },
  {
   "cell_type": "markdown",
   "id": "e71d2fdd-9984-46f4-b1c1-d126bd354799",
   "metadata": {},
   "source": [
    "#### Distribution of Age vs Age_Imputed"
   ]
  },
  {
   "cell_type": "code",
   "execution_count": 17,
   "id": "0746fe0e-f633-4114-9502-03431a6b2bd9",
   "metadata": {},
   "outputs": [
    {
     "data": {
      "image/png": "[encoded data removed]",
      "text/plain": [
       "<Figure size 640x480 with 1 Axes>"
      ]
     },
     "metadata": {},
     "output_type": "display_data"
    }
   ],
   "source": [
    "sns.kdeplot(data=X_train, x='Age', color='blue', label='Age');\n",
    "sns.kdeplot(data=X_train, x='Age_Imputed', color='red', label='Age_Imputed');\n",
    "plt.legend()\n",
    "plt.title('KDE Plot of Age vs Age_Imputed')\n",
    "plt.show();"
   ]
  },
  {
   "cell_type": "markdown",
   "id": "e25495ab-785a-45e3-a83a-db82ce7907d9",
   "metadata": {},
   "source": [
    "* There is no change in the distribution of the Age and Age_Imputed columns"
   ]
  },
  {
   "cell_type": "markdown",
   "id": "1b314a26-82a7-4479-bfc3-ffdf2346c86b",
   "metadata": {},
   "source": [
    "#### Variance of Age vs Age_Imputed"
   ]
  },
  {
   "cell_type": "code",
   "execution_count": 18,
   "id": "4a9c3f61-91a5-4f1a-b40e-8f29db37402d",
   "metadata": {},
   "outputs": [
    {
     "name": "stdout",
     "output_type": "stream",
     "text": [
      "Variance of Age column:  210.2517072477438\n",
      "Variance of Age_Imputed column:  223.21653255819453\n"
     ]
    }
   ],
   "source": [
    "print(\"Variance of Age column: \", X_train['Age'].var())\n",
    "print(\"Variance of Age_Imputed column: \", X_train['Age_Imputed'].var())"
   ]
  },
  {
   "cell_type": "markdown",
   "id": "1f0cd0ee-32d9-4f0e-86da-4b004f383674",
   "metadata": {},
   "source": [
    "* Variance is also almost same."
   ]
  },
  {
   "cell_type": "markdown",
   "id": "b7a3e1dd-4122-49c8-95d0-fc5108763528",
   "metadata": {},
   "source": [
    "#### Covariance of Age vs Age_Imputed"
   ]
  },
  {
   "cell_type": "code",
   "execution_count": 19,
   "id": "15176d0d-2518-4aca-82bb-7c561a191e6b",
   "metadata": {},
   "outputs": [
    {
     "data": {
      "text/html": [
       "<div>\n",
       "<style scoped>\n",
       "    .dataframe tbody tr th:only-of-type {\n",
       "        vertical-align: middle;\n",
       "    }\n",
       "\n",
       "    .dataframe tbody tr th {\n",
       "        vertical-align: top;\n",
       "    }\n",
       "\n",
       "    .dataframe thead th {\n",
       "        text-align: right;\n",
       "    }\n",
       "</style>\n",
       "<table border=\"1\" class=\"dataframe\">\n",
       "  <thead>\n",
       "    <tr style=\"text-align: right;\">\n",
       "      <th></th>\n",
       "      <th>Fare</th>\n",
       "      <th>Age</th>\n",
       "      <th>Age_Imputed</th>\n",
       "    </tr>\n",
       "  </thead>\n",
       "  <tbody>\n",
       "    <tr>\n",
       "      <th>Fare</th>\n",
       "      <td>2700.831981</td>\n",
       "      <td>71.580633</td>\n",
       "      <td>48.780170</td>\n",
       "    </tr>\n",
       "    <tr>\n",
       "      <th>Age</th>\n",
       "      <td>71.580633</td>\n",
       "      <td>210.251707</td>\n",
       "      <td>210.251707</td>\n",
       "    </tr>\n",
       "    <tr>\n",
       "      <th>Age_Imputed</th>\n",
       "      <td>48.780170</td>\n",
       "      <td>210.251707</td>\n",
       "      <td>223.216533</td>\n",
       "    </tr>\n",
       "  </tbody>\n",
       "</table>\n",
       "</div>"
      ],
      "text/plain": [
       "                    Fare         Age  Age_Imputed\n",
       "Fare         2700.831981   71.580633    48.780170\n",
       "Age            71.580633  210.251707   210.251707\n",
       "Age_Imputed    48.780170  210.251707   223.216533"
      ]
     },
     "execution_count": 19,
     "metadata": {},
     "output_type": "execute_result"
    }
   ],
   "source": [
    "X_train[['Fare', 'Age', 'Age_Imputed']].cov()"
   ]
  },
  {
   "cell_type": "markdown",
   "id": "96cfb561-bb1b-4c1c-8696-ecd2a0550851",
   "metadata": {},
   "source": [
    "* Covariance seems to be have changed b/w Fare and Age, Age_Imputed"
   ]
  },
  {
   "cell_type": "markdown",
   "id": "4a55c1af-bef1-4945-abcf-282e0ee3b62e",
   "metadata": {},
   "source": [
    "#### Outliers"
   ]
  },
  {
   "cell_type": "code",
   "execution_count": 20,
   "id": "767e5e35-bb8e-4370-a4d3-b5d7da793a5b",
   "metadata": {},
   "outputs": [
    {
     "data": {
      "image/png": "[encoded data removed]",
      "text/plain": [
       "<Figure size 640x480 with 1 Axes>"
      ]
     },
     "metadata": {},
     "output_type": "display_data"
    }
   ],
   "source": [
    "X_train[['Age', 'Age_Imputed']].boxplot();"
   ]
  },
  {
   "cell_type": "markdown",
   "id": "8075d3bf-29a6-4977-bbb8-25e26c2831e2",
   "metadata": {},
   "source": [
    "* Almost no change in the outliers as well."
   ]
  },
  {
   "cell_type": "markdown",
   "id": "d3f63d36-4570-41eb-a91e-e08d5b24ac74",
   "metadata": {},
   "source": [
    "Random sampling imputation is useful because it preserves the original distribution of the data, avoiding the bias that can come from mean or median imputation. However, by default, random sampling is non-deterministic, meaning each time you run the imputation, it may fill missing values with different randomly selected entries.\n",
    "\n",
    "In production environments, this lack of consistency can lead to:\n",
    "* Inconsistent model predictions across runs.\n",
    "* Difficulties in debugging or model validation.\n",
    "* Data drift in pipelines over time if imputation varies between training and serving.\n",
    "\n",
    "To ensure reproducibility and consistency, especially during model deployment and inference, it's important to control the randomness using the random_state parameter."
   ]
  },
  {
   "cell_type": "code",
   "execution_count": 21,
   "id": "e2ac29f0-2463-400c-b622-6d5645b6a48d",
   "metadata": {},
   "outputs": [
    {
     "data": {
      "text/plain": [
       "53    29.0\n",
       "Name: Age, dtype: float64"
      ]
     },
     "execution_count": 21,
     "metadata": {},
     "output_type": "execute_result"
    }
   ],
   "source": [
    "sampled_value = X_train['Age'].dropna().sample(1, random_state=int(X_train['Fare'].iloc[0]))\n",
    "sampled_value"
   ]
  },
  {
   "cell_type": "markdown",
   "id": "6049278c-bee9-44e6-9b35-24332e49a7a1",
   "metadata": {},
   "source": [
    "### Random Sampling Imputation - Categorical"
   ]
  },
  {
   "cell_type": "markdown",
   "id": "f96a1bd1-2fc4-46c2-a800-da173d6752d9",
   "metadata": {},
   "source": [
    "#### Load the dataset"
   ]
  },
  {
   "cell_type": "code",
   "execution_count": 22,
   "id": "dcbb03e3-f2de-45ae-91f7-03c4894ee2e4",
   "metadata": {},
   "outputs": [],
   "source": [
    "df = pd.read_csv(r'data/house-train.csv', usecols=['GarageQual','FireplaceQu', 'SalePrice'])"
   ]
  },
  {
   "cell_type": "code",
   "execution_count": 23,
   "id": "b1808ae3-c931-4626-a4e9-dcb6e29df628",
   "metadata": {},
   "outputs": [
    {
     "data": {
      "text/html": [
       "<div>\n",
       "<style scoped>\n",
       "    .dataframe tbody tr th:only-of-type {\n",
       "        vertical-align: middle;\n",
       "    }\n",
       "\n",
       "    .dataframe tbody tr th {\n",
       "        vertical-align: top;\n",
       "    }\n",
       "\n",
       "    .dataframe thead th {\n",
       "        text-align: right;\n",
       "    }\n",
       "</style>\n",
       "<table border=\"1\" class=\"dataframe\">\n",
       "  <thead>\n",
       "    <tr style=\"text-align: right;\">\n",
       "      <th></th>\n",
       "      <th>FireplaceQu</th>\n",
       "      <th>GarageQual</th>\n",
       "      <th>SalePrice</th>\n",
       "    </tr>\n",
       "  </thead>\n",
       "  <tbody>\n",
       "    <tr>\n",
       "      <th>0</th>\n",
       "      <td>NaN</td>\n",
       "      <td>TA</td>\n",
       "      <td>208500</td>\n",
       "    </tr>\n",
       "    <tr>\n",
       "      <th>1</th>\n",
       "      <td>TA</td>\n",
       "      <td>TA</td>\n",
       "      <td>181500</td>\n",
       "    </tr>\n",
       "    <tr>\n",
       "      <th>2</th>\n",
       "      <td>TA</td>\n",
       "      <td>TA</td>\n",
       "      <td>223500</td>\n",
       "    </tr>\n",
       "    <tr>\n",
       "      <th>3</th>\n",
       "      <td>Gd</td>\n",
       "      <td>TA</td>\n",
       "      <td>140000</td>\n",
       "    </tr>\n",
       "    <tr>\n",
       "      <th>4</th>\n",
       "      <td>TA</td>\n",
       "      <td>TA</td>\n",
       "      <td>250000</td>\n",
       "    </tr>\n",
       "  </tbody>\n",
       "</table>\n",
       "</div>"
      ],
      "text/plain": [
       "  FireplaceQu GarageQual  SalePrice\n",
       "0         NaN         TA     208500\n",
       "1          TA         TA     181500\n",
       "2          TA         TA     223500\n",
       "3          Gd         TA     140000\n",
       "4          TA         TA     250000"
      ]
     },
     "execution_count": 23,
     "metadata": {},
     "output_type": "execute_result"
    }
   ],
   "source": [
    "df.head()"
   ]
  },
  {
   "cell_type": "code",
   "execution_count": 24,
   "id": "c3f1ad95-ea72-4674-95e4-5fd2ccecf6a5",
   "metadata": {},
   "outputs": [
    {
     "data": {
      "text/plain": [
       "FireplaceQu    47.260274\n",
       "GarageQual      5.547945\n",
       "SalePrice       0.000000\n",
       "dtype: float64"
      ]
     },
     "execution_count": 24,
     "metadata": {},
     "output_type": "execute_result"
    }
   ],
   "source": [
    "df.isnull().mean() * 100"
   ]
  },
  {
   "cell_type": "markdown",
   "id": "af706caa-4db1-4d4d-bff9-598ff7c5717c",
   "metadata": {},
   "source": [
    "#### Train Test Split"
   ]
  },
  {
   "cell_type": "code",
   "execution_count": 25,
   "id": "6a3b06ea-85fa-4dbf-b35c-0d79f3861b56",
   "metadata": {},
   "outputs": [],
   "source": [
    "X = df\n",
    "y = df['SalePrice']"
   ]
  },
  {
   "cell_type": "code",
   "execution_count": 26,
   "id": "eff42a67-650b-4343-b901-f4121d3dd378",
   "metadata": {},
   "outputs": [],
   "source": [
    "X_train, X_test, y_train, y_test = train_test_split(X, y, test_size=0.2, random_state=42)"
   ]
  },
  {
   "cell_type": "code",
   "execution_count": 27,
   "id": "a9a0ab6c-b057-427d-805f-09a7e20657ad",
   "metadata": {},
   "outputs": [
    {
     "data": {
      "text/plain": [
       "((1168, 3), (292, 3), (1168,), (292,))"
      ]
     },
     "execution_count": 27,
     "metadata": {},
     "output_type": "execute_result"
    }
   ],
   "source": [
    "X_train.shape, X_test.shape, y_train.shape, y_test.shape"
   ]
  },
  {
   "cell_type": "code",
   "execution_count": 28,
   "id": "7bef3375-b790-4b18-ae0c-5183dd1ee3b7",
   "metadata": {},
   "outputs": [],
   "source": [
    "X_train['GarageQual_imputed'] = X_train['GarageQual']\n",
    "X_test['GarageQual_imputed'] = X_test['GarageQual']\n",
    "\n",
    "X_train['FireplaceQu_imputed'] = X_train['FireplaceQu']\n",
    "X_test['FireplaceQu_imputed'] = X_test['FireplaceQu']"
   ]
  },
  {
   "cell_type": "code",
   "execution_count": 29,
   "id": "db51cb94-8b75-4eea-835e-e5578accb612",
   "metadata": {},
   "outputs": [],
   "source": [
    "X_train['GarageQual_imputed'][X_train['GarageQual_imputed'].isnull()] = X_train['GarageQual'].dropna().sample(X_train['GarageQual'].isnull().sum()).values\n",
    "X_test['GarageQual_imputed'][X_test['GarageQual_imputed'].isnull()] = X_train['GarageQual'].dropna().sample(X_test['GarageQual'].isnull().sum()).values\n",
    "\n",
    "X_train['FireplaceQu_imputed'][X_train['FireplaceQu_imputed'].isnull()] = X_train['FireplaceQu'].dropna().sample(X_train['FireplaceQu'].isnull().sum()).values\n",
    "X_test['FireplaceQu_imputed'][X_test['FireplaceQu_imputed'].isnull()] = X_train['FireplaceQu'].dropna().sample(X_test['FireplaceQu'].isnull().sum()).values"
   ]
  },
  {
   "cell_type": "code",
   "execution_count": 30,
   "id": "de8fd058-9f2e-4493-b701-2702775c4bbf",
   "metadata": {},
   "outputs": [
    {
     "data": {
      "text/html": [
       "<div>\n",
       "<style scoped>\n",
       "    .dataframe tbody tr th:only-of-type {\n",
       "        vertical-align: middle;\n",
       "    }\n",
       "\n",
       "    .dataframe tbody tr th {\n",
       "        vertical-align: top;\n",
       "    }\n",
       "\n",
       "    .dataframe thead th {\n",
       "        text-align: right;\n",
       "    }\n",
       "</style>\n",
       "<table border=\"1\" class=\"dataframe\">\n",
       "  <thead>\n",
       "    <tr style=\"text-align: right;\">\n",
       "      <th></th>\n",
       "      <th>FireplaceQu</th>\n",
       "      <th>GarageQual</th>\n",
       "      <th>SalePrice</th>\n",
       "      <th>GarageQual_imputed</th>\n",
       "      <th>FireplaceQu_imputed</th>\n",
       "    </tr>\n",
       "  </thead>\n",
       "  <tbody>\n",
       "    <tr>\n",
       "      <th>254</th>\n",
       "      <td>NaN</td>\n",
       "      <td>TA</td>\n",
       "      <td>145000</td>\n",
       "      <td>TA</td>\n",
       "      <td>Gd</td>\n",
       "    </tr>\n",
       "    <tr>\n",
       "      <th>1066</th>\n",
       "      <td>TA</td>\n",
       "      <td>TA</td>\n",
       "      <td>178000</td>\n",
       "      <td>TA</td>\n",
       "      <td>TA</td>\n",
       "    </tr>\n",
       "    <tr>\n",
       "      <th>638</th>\n",
       "      <td>NaN</td>\n",
       "      <td>NaN</td>\n",
       "      <td>85000</td>\n",
       "      <td>TA</td>\n",
       "      <td>TA</td>\n",
       "    </tr>\n",
       "    <tr>\n",
       "      <th>799</th>\n",
       "      <td>TA</td>\n",
       "      <td>TA</td>\n",
       "      <td>175000</td>\n",
       "      <td>TA</td>\n",
       "      <td>TA</td>\n",
       "    </tr>\n",
       "    <tr>\n",
       "      <th>380</th>\n",
       "      <td>Gd</td>\n",
       "      <td>TA</td>\n",
       "      <td>127000</td>\n",
       "      <td>TA</td>\n",
       "      <td>Gd</td>\n",
       "    </tr>\n",
       "  </tbody>\n",
       "</table>\n",
       "</div>"
      ],
      "text/plain": [
       "     FireplaceQu GarageQual  SalePrice GarageQual_imputed FireplaceQu_imputed\n",
       "254          NaN         TA     145000                 TA                  Gd\n",
       "1066          TA         TA     178000                 TA                  TA\n",
       "638          NaN        NaN      85000                 TA                  TA\n",
       "799           TA         TA     175000                 TA                  TA\n",
       "380           Gd         TA     127000                 TA                  Gd"
      ]
     },
     "execution_count": 30,
     "metadata": {},
     "output_type": "execute_result"
    }
   ],
   "source": [
    "X_train.head()"
   ]
  },
  {
   "cell_type": "code",
   "execution_count": 31,
   "id": "20861ca4-9894-4545-aa72-0270fe091a60",
   "metadata": {},
   "outputs": [
    {
     "data": {
      "text/html": [
       "<div>\n",
       "<style scoped>\n",
       "    .dataframe tbody tr th:only-of-type {\n",
       "        vertical-align: middle;\n",
       "    }\n",
       "\n",
       "    .dataframe tbody tr th {\n",
       "        vertical-align: top;\n",
       "    }\n",
       "\n",
       "    .dataframe thead th {\n",
       "        text-align: right;\n",
       "    }\n",
       "</style>\n",
       "<table border=\"1\" class=\"dataframe\">\n",
       "  <thead>\n",
       "    <tr style=\"text-align: right;\">\n",
       "      <th></th>\n",
       "      <th>FireplaceQu</th>\n",
       "      <th>GarageQual</th>\n",
       "      <th>SalePrice</th>\n",
       "      <th>GarageQual_imputed</th>\n",
       "      <th>FireplaceQu_imputed</th>\n",
       "    </tr>\n",
       "  </thead>\n",
       "  <tbody>\n",
       "    <tr>\n",
       "      <th>892</th>\n",
       "      <td>NaN</td>\n",
       "      <td>TA</td>\n",
       "      <td>154500</td>\n",
       "      <td>TA</td>\n",
       "      <td>Gd</td>\n",
       "    </tr>\n",
       "    <tr>\n",
       "      <th>1105</th>\n",
       "      <td>TA</td>\n",
       "      <td>TA</td>\n",
       "      <td>325000</td>\n",
       "      <td>TA</td>\n",
       "      <td>TA</td>\n",
       "    </tr>\n",
       "    <tr>\n",
       "      <th>413</th>\n",
       "      <td>Gd</td>\n",
       "      <td>TA</td>\n",
       "      <td>115000</td>\n",
       "      <td>TA</td>\n",
       "      <td>Gd</td>\n",
       "    </tr>\n",
       "    <tr>\n",
       "      <th>522</th>\n",
       "      <td>Gd</td>\n",
       "      <td>TA</td>\n",
       "      <td>159000</td>\n",
       "      <td>TA</td>\n",
       "      <td>Gd</td>\n",
       "    </tr>\n",
       "    <tr>\n",
       "      <th>1036</th>\n",
       "      <td>Ex</td>\n",
       "      <td>TA</td>\n",
       "      <td>315500</td>\n",
       "      <td>TA</td>\n",
       "      <td>Ex</td>\n",
       "    </tr>\n",
       "  </tbody>\n",
       "</table>\n",
       "</div>"
      ],
      "text/plain": [
       "     FireplaceQu GarageQual  SalePrice GarageQual_imputed FireplaceQu_imputed\n",
       "892          NaN         TA     154500                 TA                  Gd\n",
       "1105          TA         TA     325000                 TA                  TA\n",
       "413           Gd         TA     115000                 TA                  Gd\n",
       "522           Gd         TA     159000                 TA                  Gd\n",
       "1036          Ex         TA     315500                 TA                  Ex"
      ]
     },
     "execution_count": 31,
     "metadata": {},
     "output_type": "execute_result"
    }
   ],
   "source": [
    "X_test.head()"
   ]
  },
  {
   "cell_type": "markdown",
   "id": "37126b74-4b33-4e80-bf63-fe00a7c201e4",
   "metadata": {},
   "source": [
    "#### Checking frequencies/class balances "
   ]
  },
  {
   "cell_type": "code",
   "execution_count": 32,
   "id": "5ec7118b-1be0-47e8-a947-fc3a17aafeb3",
   "metadata": {},
   "outputs": [
    {
     "data": {
      "text/html": [
       "<div>\n",
       "<style scoped>\n",
       "    .dataframe tbody tr th:only-of-type {\n",
       "        vertical-align: middle;\n",
       "    }\n",
       "\n",
       "    .dataframe tbody tr th {\n",
       "        vertical-align: top;\n",
       "    }\n",
       "\n",
       "    .dataframe thead th {\n",
       "        text-align: right;\n",
       "    }\n",
       "</style>\n",
       "<table border=\"1\" class=\"dataframe\">\n",
       "  <thead>\n",
       "    <tr style=\"text-align: right;\">\n",
       "      <th></th>\n",
       "      <th>original</th>\n",
       "      <th>imputed</th>\n",
       "    </tr>\n",
       "  </thead>\n",
       "  <tbody>\n",
       "    <tr>\n",
       "      <th>TA</th>\n",
       "      <td>0.951087</td>\n",
       "      <td>0.949486</td>\n",
       "    </tr>\n",
       "    <tr>\n",
       "      <th>Fa</th>\n",
       "      <td>0.032609</td>\n",
       "      <td>0.033390</td>\n",
       "    </tr>\n",
       "    <tr>\n",
       "      <th>Gd</th>\n",
       "      <td>0.011775</td>\n",
       "      <td>0.011986</td>\n",
       "    </tr>\n",
       "    <tr>\n",
       "      <th>Ex</th>\n",
       "      <td>0.002717</td>\n",
       "      <td>0.002568</td>\n",
       "    </tr>\n",
       "    <tr>\n",
       "      <th>Po</th>\n",
       "      <td>0.001812</td>\n",
       "      <td>0.002568</td>\n",
       "    </tr>\n",
       "  </tbody>\n",
       "</table>\n",
       "</div>"
      ],
      "text/plain": [
       "    original   imputed\n",
       "TA  0.951087  0.949486\n",
       "Fa  0.032609  0.033390\n",
       "Gd  0.011775  0.011986\n",
       "Ex  0.002717  0.002568\n",
       "Po  0.001812  0.002568"
      ]
     },
     "execution_count": 32,
     "metadata": {},
     "output_type": "execute_result"
    }
   ],
   "source": [
    "temp = pd.concat(\n",
    "        [\n",
    "            X_train['GarageQual'].value_counts() / len(X_train['GarageQual'].dropna()),\n",
    "            X_train['GarageQual_imputed'].value_counts() / len(X_train)\n",
    "        ],\n",
    "        axis=1)\n",
    "\n",
    "temp.columns = ['original', 'imputed']\n",
    "temp"
   ]
  },
  {
   "cell_type": "markdown",
   "id": "d360008d-cef3-4101-9140-c6b3ecd79aaf",
   "metadata": {},
   "source": [
    "* There is no significant change in the proportions of original and imputed columns."
   ]
  },
  {
   "cell_type": "code",
   "execution_count": 33,
   "id": "744c0133-85fa-46e5-9791-1b3088cd5789",
   "metadata": {},
   "outputs": [
    {
     "data": {
      "text/html": [
       "<div>\n",
       "<style scoped>\n",
       "    .dataframe tbody tr th:only-of-type {\n",
       "        vertical-align: middle;\n",
       "    }\n",
       "\n",
       "    .dataframe tbody tr th {\n",
       "        vertical-align: top;\n",
       "    }\n",
       "\n",
       "    .dataframe thead th {\n",
       "        text-align: right;\n",
       "    }\n",
       "</style>\n",
       "<table border=\"1\" class=\"dataframe\">\n",
       "  <thead>\n",
       "    <tr style=\"text-align: right;\">\n",
       "      <th></th>\n",
       "      <th>original</th>\n",
       "      <th>imputed</th>\n",
       "    </tr>\n",
       "  </thead>\n",
       "  <tbody>\n",
       "    <tr>\n",
       "      <th>Gd</th>\n",
       "      <td>0.491143</td>\n",
       "      <td>0.485445</td>\n",
       "    </tr>\n",
       "    <tr>\n",
       "      <th>TA</th>\n",
       "      <td>0.405797</td>\n",
       "      <td>0.410959</td>\n",
       "    </tr>\n",
       "    <tr>\n",
       "      <th>Fa</th>\n",
       "      <td>0.043478</td>\n",
       "      <td>0.043664</td>\n",
       "    </tr>\n",
       "    <tr>\n",
       "      <th>Ex</th>\n",
       "      <td>0.033816</td>\n",
       "      <td>0.032534</td>\n",
       "    </tr>\n",
       "    <tr>\n",
       "      <th>Po</th>\n",
       "      <td>0.025765</td>\n",
       "      <td>0.027397</td>\n",
       "    </tr>\n",
       "  </tbody>\n",
       "</table>\n",
       "</div>"
      ],
      "text/plain": [
       "    original   imputed\n",
       "Gd  0.491143  0.485445\n",
       "TA  0.405797  0.410959\n",
       "Fa  0.043478  0.043664\n",
       "Ex  0.033816  0.032534\n",
       "Po  0.025765  0.027397"
      ]
     },
     "execution_count": 33,
     "metadata": {},
     "output_type": "execute_result"
    }
   ],
   "source": [
    "temp = pd.concat(\n",
    "        [\n",
    "            X_train['FireplaceQu'].value_counts() / len(X_train['FireplaceQu'].dropna()),\n",
    "            X_train['FireplaceQu_imputed'].value_counts() / len(X_train)\n",
    "        ],\n",
    "        axis=1)\n",
    "\n",
    "temp.columns = ['original', 'imputed']\n",
    "temp"
   ]
  },
  {
   "cell_type": "markdown",
   "id": "b31f8f9a-1d4c-42bc-8f5e-f5a22913993e",
   "metadata": {},
   "source": [
    "* There is a significant change in the proportion of `Fa` in original vs imputed columns."
   ]
  },
  {
   "cell_type": "markdown",
   "id": "8c61e14b-56d1-447a-893a-45c7e3f51e5e",
   "metadata": {},
   "source": [
    "#### Distributions before and after"
   ]
  },
  {
   "cell_type": "code",
   "execution_count": 34,
   "id": "4dfb609b-fa2d-42ff-90dd-3256e1b5e80b",
   "metadata": {},
   "outputs": [
    {
     "data": {
      "image/png": "[encoded data removed]",
      "text/plain": [
       "<Figure size 640x480 with 1 Axes>"
      ]
     },
     "metadata": {},
     "output_type": "display_data"
    }
   ],
   "source": [
    "for category in X_train['FireplaceQu'].dropna().unique():\n",
    "    sns.kdeplot(data=X_train[X_train['FireplaceQu'] == category], x='SalePrice', label=category)\n",
    "\n",
    "plt.title(\"KDE of SalePrice by Fireplace Quality\")\n",
    "plt.xlabel(\"SalePrice\")\n",
    "plt.ylabel(\"Density\")\n",
    "plt.legend()\n",
    "plt.show()"
   ]
  },
  {
   "cell_type": "code",
   "execution_count": 35,
   "id": "cf840245-88bc-4ced-b9ae-5cb3ceba589e",
   "metadata": {},
   "outputs": [
    {
     "data": {
      "image/png": "[encoded data removed]",
      "text/plain": [
       "<Figure size 640x480 with 1 Axes>"
      ]
     },
     "metadata": {},
     "output_type": "display_data"
    }
   ],
   "source": [
    "for category in X_train['FireplaceQu_imputed'].dropna().unique():\n",
    "    sns.kdeplot(data=X_train[X_train['FireplaceQu_imputed'] == category], x='SalePrice', label=category)\n",
    "\n",
    "plt.title(\"KDE of SalePrice by Fireplace Quality\")\n",
    "plt.xlabel(\"SalePrice\")\n",
    "plt.ylabel(\"Density\")\n",
    "plt.legend()\n",
    "plt.show()"
   ]
  },
  {
   "cell_type": "markdown",
   "id": "ad3b9ab4-b1e4-4858-a102-23f6a3426dc5",
   "metadata": {},
   "source": [
    "* The same change can also be seen in the density plot as well."
   ]
  },
  {
   "cell_type": "code",
   "execution_count": null,
   "id": "22db3cef-3c9e-47e5-8c20-8d9fb5073c54",
   "metadata": {},
   "outputs": [],
   "source": []
  }
 ],
 "metadata": {
  "kernelspec": {
   "display_name": "Python 3 (ipykernel)",
   "language": "python",
   "name": "python3"
  },
  "language_info": {
   "codemirror_mode": {
    "name": "ipython",
    "version": 3
   },
   "file_extension": ".py",
   "mimetype": "text/x-python",
   "name": "python",
   "nbconvert_exporter": "python",
   "pygments_lexer": "ipython3",
   "version": "3.12.7"
  }
 },
 "nbformat": 4,
 "nbformat_minor": 5
}
