{
 "cells": [
  {
   "cell_type": "markdown",
   "id": "fdfb688c-c2e7-44e4-909b-60fef2b3368a",
   "metadata": {},
   "source": [
    "### Import the libraries"
   ]
  },
  {
   "cell_type": "code",
   "execution_count": 1,
   "id": "c7e15084-7051-4639-ad5d-c42ca65429f3",
   "metadata": {},
   "outputs": [],
   "source": [
    "import pandas as pd\n",
    "import numpy as np\n",
    "from sklearn.model_selection import train_test_split\n",
    "from sklearn.impute import SimpleImputer\n",
    "from sklearn.preprocessing import OrdinalEncoder, OneHotEncoder, LabelEncoder\n",
    "from sklearn.compose import ColumnTransformer"
   ]
  },
  {
   "cell_type": "markdown",
   "id": "d1dfc52f-6be9-4fb4-8489-001bd37b6f79",
   "metadata": {},
   "source": [
    "### Load the dataset"
   ]
  },
  {
   "cell_type": "code",
   "execution_count": 2,
   "id": "ffeddd4b-36d4-416a-a651-0aab5b1388f4",
   "metadata": {},
   "outputs": [],
   "source": [
    "df = pd.read_csv(r'data/covid_toy.csv')"
   ]
  },
  {
   "cell_type": "code",
   "execution_count": 3,
   "id": "7da340fc-9ac1-4e18-9fcf-df28957e231e",
   "metadata": {},
   "outputs": [
    {
     "data": {
      "text/html": [
       "<div>\n",
       "<style scoped>\n",
       "    .dataframe tbody tr th:only-of-type {\n",
       "        vertical-align: middle;\n",
       "    }\n",
       "\n",
       "    .dataframe tbody tr th {\n",
       "        vertical-align: top;\n",
       "    }\n",
       "\n",
       "    .dataframe thead th {\n",
       "        text-align: right;\n",
       "    }\n",
       "</style>\n",
       "<table border=\"1\" class=\"dataframe\">\n",
       "  <thead>\n",
       "    <tr style=\"text-align: right;\">\n",
       "      <th></th>\n",
       "      <th>age</th>\n",
       "      <th>gender</th>\n",
       "      <th>fever</th>\n",
       "      <th>cough</th>\n",
       "      <th>city</th>\n",
       "      <th>has_covid</th>\n",
       "    </tr>\n",
       "  </thead>\n",
       "  <tbody>\n",
       "    <tr>\n",
       "      <th>0</th>\n",
       "      <td>60</td>\n",
       "      <td>Male</td>\n",
       "      <td>103.0</td>\n",
       "      <td>Mild</td>\n",
       "      <td>Kolkata</td>\n",
       "      <td>No</td>\n",
       "    </tr>\n",
       "    <tr>\n",
       "      <th>1</th>\n",
       "      <td>27</td>\n",
       "      <td>Male</td>\n",
       "      <td>100.0</td>\n",
       "      <td>Mild</td>\n",
       "      <td>Delhi</td>\n",
       "      <td>Yes</td>\n",
       "    </tr>\n",
       "    <tr>\n",
       "      <th>2</th>\n",
       "      <td>42</td>\n",
       "      <td>Male</td>\n",
       "      <td>101.0</td>\n",
       "      <td>Mild</td>\n",
       "      <td>Delhi</td>\n",
       "      <td>No</td>\n",
       "    </tr>\n",
       "    <tr>\n",
       "      <th>3</th>\n",
       "      <td>31</td>\n",
       "      <td>Female</td>\n",
       "      <td>98.0</td>\n",
       "      <td>Mild</td>\n",
       "      <td>Kolkata</td>\n",
       "      <td>No</td>\n",
       "    </tr>\n",
       "    <tr>\n",
       "      <th>4</th>\n",
       "      <td>65</td>\n",
       "      <td>Female</td>\n",
       "      <td>101.0</td>\n",
       "      <td>Mild</td>\n",
       "      <td>Mumbai</td>\n",
       "      <td>No</td>\n",
       "    </tr>\n",
       "  </tbody>\n",
       "</table>\n",
       "</div>"
      ],
      "text/plain": [
       "   age  gender  fever cough     city has_covid\n",
       "0   60    Male  103.0  Mild  Kolkata        No\n",
       "1   27    Male  100.0  Mild    Delhi       Yes\n",
       "2   42    Male  101.0  Mild    Delhi        No\n",
       "3   31  Female   98.0  Mild  Kolkata        No\n",
       "4   65  Female  101.0  Mild   Mumbai        No"
      ]
     },
     "execution_count": 3,
     "metadata": {},
     "output_type": "execute_result"
    }
   ],
   "source": [
    "df.head()"
   ]
  },
  {
   "cell_type": "code",
   "execution_count": 4,
   "id": "ac56702d-7c33-4525-8c19-c8074e7c07fd",
   "metadata": {},
   "outputs": [
    {
     "name": "stdout",
     "output_type": "stream",
     "text": [
      "<class 'pandas.core.frame.DataFrame'>\n",
      "RangeIndex: 100 entries, 0 to 99\n",
      "Data columns (total 6 columns):\n",
      " #   Column     Non-Null Count  Dtype  \n",
      "---  ------     --------------  -----  \n",
      " 0   age        100 non-null    int64  \n",
      " 1   gender     100 non-null    object \n",
      " 2   fever      90 non-null     float64\n",
      " 3   cough      100 non-null    object \n",
      " 4   city       100 non-null    object \n",
      " 5   has_covid  100 non-null    object \n",
      "dtypes: float64(1), int64(1), object(4)\n",
      "memory usage: 4.8+ KB\n"
     ]
    }
   ],
   "source": [
    "df.info()"
   ]
  },
  {
   "cell_type": "markdown",
   "id": "4a803084-c8a4-48e0-82a2-e454708da665",
   "metadata": {},
   "source": [
    "* age, fever - numerical data - use SimpleImputer to fill the missing values\n",
    "* gender, city - nominal data - apply One-Hot Encoder\n",
    "* cough - ordinal data - apply Ordinal Encoder\n",
    "* has_covid - nominal data(output) - apply Lable Encoder"
   ]
  },
  {
   "cell_type": "markdown",
   "id": "2d26d4d7-e4e7-4bbd-bf1b-f20ec05c4144",
   "metadata": {},
   "source": [
    "### Train Test Split"
   ]
  },
  {
   "cell_type": "code",
   "execution_count": 5,
   "id": "b43c010c-72d0-42d9-94d2-2518a65439b1",
   "metadata": {},
   "outputs": [],
   "source": [
    "X = df.iloc[:, 0:5]\n",
    "y = df.iloc[:, -1]"
   ]
  },
  {
   "cell_type": "code",
   "execution_count": 6,
   "id": "5e28010b-70e6-457f-9ba7-8bee764aa2a7",
   "metadata": {},
   "outputs": [
    {
     "data": {
      "text/html": [
       "<div>\n",
       "<style scoped>\n",
       "    .dataframe tbody tr th:only-of-type {\n",
       "        vertical-align: middle;\n",
       "    }\n",
       "\n",
       "    .dataframe tbody tr th {\n",
       "        vertical-align: top;\n",
       "    }\n",
       "\n",
       "    .dataframe thead th {\n",
       "        text-align: right;\n",
       "    }\n",
       "</style>\n",
       "<table border=\"1\" class=\"dataframe\">\n",
       "  <thead>\n",
       "    <tr style=\"text-align: right;\">\n",
       "      <th></th>\n",
       "      <th>age</th>\n",
       "      <th>gender</th>\n",
       "      <th>fever</th>\n",
       "      <th>cough</th>\n",
       "      <th>city</th>\n",
       "    </tr>\n",
       "  </thead>\n",
       "  <tbody>\n",
       "    <tr>\n",
       "      <th>0</th>\n",
       "      <td>60</td>\n",
       "      <td>Male</td>\n",
       "      <td>103.0</td>\n",
       "      <td>Mild</td>\n",
       "      <td>Kolkata</td>\n",
       "    </tr>\n",
       "    <tr>\n",
       "      <th>1</th>\n",
       "      <td>27</td>\n",
       "      <td>Male</td>\n",
       "      <td>100.0</td>\n",
       "      <td>Mild</td>\n",
       "      <td>Delhi</td>\n",
       "    </tr>\n",
       "    <tr>\n",
       "      <th>2</th>\n",
       "      <td>42</td>\n",
       "      <td>Male</td>\n",
       "      <td>101.0</td>\n",
       "      <td>Mild</td>\n",
       "      <td>Delhi</td>\n",
       "    </tr>\n",
       "    <tr>\n",
       "      <th>3</th>\n",
       "      <td>31</td>\n",
       "      <td>Female</td>\n",
       "      <td>98.0</td>\n",
       "      <td>Mild</td>\n",
       "      <td>Kolkata</td>\n",
       "    </tr>\n",
       "    <tr>\n",
       "      <th>4</th>\n",
       "      <td>65</td>\n",
       "      <td>Female</td>\n",
       "      <td>101.0</td>\n",
       "      <td>Mild</td>\n",
       "      <td>Mumbai</td>\n",
       "    </tr>\n",
       "  </tbody>\n",
       "</table>\n",
       "</div>"
      ],
      "text/plain": [
       "   age  gender  fever cough     city\n",
       "0   60    Male  103.0  Mild  Kolkata\n",
       "1   27    Male  100.0  Mild    Delhi\n",
       "2   42    Male  101.0  Mild    Delhi\n",
       "3   31  Female   98.0  Mild  Kolkata\n",
       "4   65  Female  101.0  Mild   Mumbai"
      ]
     },
     "execution_count": 6,
     "metadata": {},
     "output_type": "execute_result"
    }
   ],
   "source": [
    "X.head()"
   ]
  },
  {
   "cell_type": "code",
   "execution_count": 7,
   "id": "875419b3-2750-4e5c-91d3-4a63860b9f8b",
   "metadata": {},
   "outputs": [
    {
     "data": {
      "text/plain": [
       "0     No\n",
       "1    Yes\n",
       "2     No\n",
       "3     No\n",
       "4     No\n",
       "Name: has_covid, dtype: object"
      ]
     },
     "execution_count": 7,
     "metadata": {},
     "output_type": "execute_result"
    }
   ],
   "source": [
    "y.head()"
   ]
  },
  {
   "cell_type": "code",
   "execution_count": 8,
   "id": "89cb94f6-4b0b-4fcc-91d6-5e84f238af1f",
   "metadata": {},
   "outputs": [],
   "source": [
    "X_train, X_test, y_train, y_test = train_test_split(X, y, test_size=0.2, random_state=42)"
   ]
  },
  {
   "cell_type": "markdown",
   "id": "a3a2d1ec-c66d-4323-96b1-7c5b2a25366c",
   "metadata": {},
   "source": [
    "### Handling different transformations separately"
   ]
  },
  {
   "cell_type": "markdown",
   "id": "b61ad53d-b5b8-4ac5-b400-4184b7bcea2d",
   "metadata": {},
   "source": [
    "#### SimpleImputer"
   ]
  },
  {
   "cell_type": "code",
   "execution_count": 9,
   "id": "18997d80-6ef9-41c9-9ce5-39adc225fc5d",
   "metadata": {},
   "outputs": [
    {
     "data": {
      "text/plain": [
       "((80, 1), (20, 1))"
      ]
     },
     "execution_count": 9,
     "metadata": {},
     "output_type": "execute_result"
    }
   ],
   "source": [
    "si = SimpleImputer() # Replaces the missing value with the mean of the column\n",
    "X_train_si = si.fit_transform(X_train[['fever']])\n",
    "X_test_si = si.transform(X_test[['fever']])\n",
    "\n",
    "X_train_si.shape, X_test_si.shape"
   ]
  },
  {
   "cell_type": "markdown",
   "id": "c94e1870-fa5c-4013-8fc5-b717be91930a",
   "metadata": {},
   "source": [
    "#### OneHotEncoder"
   ]
  },
  {
   "cell_type": "code",
   "execution_count": 10,
   "id": "73292fe5-b2d4-4353-9b04-cd700536105e",
   "metadata": {},
   "outputs": [
    {
     "data": {
      "text/plain": [
       "((80, 4), (20, 4))"
      ]
     },
     "execution_count": 10,
     "metadata": {},
     "output_type": "execute_result"
    }
   ],
   "source": [
    "ohe = OneHotEncoder(drop='first', sparse_output=False, dtype=np.int32)\n",
    "X_train_ohe = ohe.fit_transform(X_train[['gender', 'city']])\n",
    "X_test_ohe = ohe.transform(X_test[['gender', 'city']])\n",
    "\n",
    "X_train_ohe.shape, X_test_ohe.shape"
   ]
  },
  {
   "cell_type": "markdown",
   "id": "b7c10440-79b3-4d5b-8e4b-4e932acebf1c",
   "metadata": {},
   "source": [
    "#### OrdinalEncoder"
   ]
  },
  {
   "cell_type": "code",
   "execution_count": 11,
   "id": "efbc4bb4-6231-40ec-b33a-5af423be3444",
   "metadata": {},
   "outputs": [
    {
     "data": {
      "text/plain": [
       "array(['Mild', 'Strong'], dtype=object)"
      ]
     },
     "execution_count": 11,
     "metadata": {},
     "output_type": "execute_result"
    }
   ],
   "source": [
    "df.cough.unique()"
   ]
  },
  {
   "cell_type": "code",
   "execution_count": 12,
   "id": "c370d7dd-97c5-4feb-bb83-8d683fbf6c0c",
   "metadata": {},
   "outputs": [
    {
     "data": {
      "text/plain": [
       "((80, 1), (20, 1))"
      ]
     },
     "execution_count": 12,
     "metadata": {},
     "output_type": "execute_result"
    }
   ],
   "source": [
    "oe = OrdinalEncoder(categories=[['Mild', 'Strong']])\n",
    "X_train_oe = oe.fit_transform(X_train[['cough']])\n",
    "X_test_oe = oe.transform(X_test[['cough']])\n",
    "\n",
    "X_train_oe.shape, X_test_oe.shape"
   ]
  },
  {
   "cell_type": "markdown",
   "id": "dc0e0fae-749b-4b56-b5ab-fb426934a241",
   "metadata": {},
   "source": [
    "#### LabelEncoder"
   ]
  },
  {
   "cell_type": "code",
   "execution_count": 13,
   "id": "5b01f400-22b3-4f36-b407-8ae52e8adebb",
   "metadata": {},
   "outputs": [
    {
     "data": {
      "text/plain": [
       "((80,), (20,))"
      ]
     },
     "execution_count": 13,
     "metadata": {},
     "output_type": "execute_result"
    }
   ],
   "source": [
    "le = LabelEncoder()\n",
    "y_train_le = le.fit_transform(y_train)\n",
    "y_test_le = le.transform(y_test)\n",
    "\n",
    "y_train_le.shape, y_test_le.shape"
   ]
  },
  {
   "cell_type": "markdown",
   "id": "8928874f-c8eb-489c-9fe0-ac37ce1c5408",
   "metadata": {},
   "source": [
    "#### Concatenating all the encoded numpy arrays"
   ]
  },
  {
   "cell_type": "code",
   "execution_count": 14,
   "id": "10329684-072c-402d-bd5f-86aa10e30708",
   "metadata": {},
   "outputs": [
    {
     "data": {
      "text/plain": [
       "((80, 1), (20, 1))"
      ]
     },
     "execution_count": 14,
     "metadata": {},
     "output_type": "execute_result"
    }
   ],
   "source": [
    "# Get the age column\n",
    "X_train_age = X_train.drop(columns=['gender','fever','cough','city']).values\n",
    "X_test_age = X_test.drop(columns=['gender','fever','cough','city']).values\n",
    "\n",
    "X_train_age.shape, X_test_age.shape"
   ]
  },
  {
   "cell_type": "code",
   "execution_count": 15,
   "id": "f576ac71-7246-499e-9007-bab8dc0e8383",
   "metadata": {},
   "outputs": [
    {
     "data": {
      "text/plain": [
       "((80, 7), (20, 7))"
      ]
     },
     "execution_count": 15,
     "metadata": {},
     "output_type": "execute_result"
    }
   ],
   "source": [
    "X_train_all = np.concatenate((X_train_age, X_train_si, X_train_ohe, X_train_oe), axis=1)\n",
    "X_test_all = np.concatenate((X_test_age, X_test_si, X_test_ohe, X_test_oe), axis=1)\n",
    "\n",
    "X_train_all.shape, X_test_all.shape"
   ]
  },
  {
   "cell_type": "markdown",
   "id": "6be8b708-a33e-4ce9-a931-54510018ad08",
   "metadata": {},
   "source": [
    "### ColumnTransformer"
   ]
  },
  {
   "cell_type": "code",
   "execution_count": 16,
   "id": "c4ba2fb8-cddf-4387-ac8d-f156f6baf9f9",
   "metadata": {},
   "outputs": [
    {
     "name": "stdout",
     "output_type": "stream",
     "text": [
      "[ColumnTransformer] . (1 of 4) Processing SimpleImputer, total=   0.0s\n",
      "[ColumnTransformer] . (2 of 4) Processing OneHotEncoder, total=   0.0s\n",
      "[ColumnTransformer]  (3 of 4) Processing OrdinalEncoder, total=   0.0s\n",
      "[ColumnTransformer] ..... (4 of 4) Processing remainder, total=   0.0s\n"
     ]
    },
    {
     "data": {
      "text/plain": [
       "((80, 7), (20, 7))"
      ]
     },
     "execution_count": 16,
     "metadata": {},
     "output_type": "execute_result"
    }
   ],
   "source": [
    "transformer = ColumnTransformer(\n",
    "    transformers=[\n",
    "        ('SimpleImputer', SimpleImputer(), ['fever']),\n",
    "        ('OneHotEncoder', OneHotEncoder(drop='first', sparse_output=False, dtype=np.int32), ['gender', 'city']),\n",
    "        ('OrdinalEncoder', OrdinalEncoder(categories=[['Mild', 'Strong']]), ['cough'])\n",
    "    ],\n",
    "    remainder='passthrough',\n",
    "    verbose=True,\n",
    "    verbose_feature_names_out=True\n",
    ")\n",
    "\n",
    "X_train_transformed = transformer.fit_transform(X_train)\n",
    "X_test_transformed = transformer.transform(X_test)\n",
    "\n",
    "X_train_transformed.shape, X_test_transformed.shape"
   ]
  },
  {
   "cell_type": "code",
   "execution_count": null,
   "id": "af4bcad8-cf6b-4ce0-a101-1bcd2e6eff8a",
   "metadata": {},
   "outputs": [],
   "source": []
  }
 ],
 "metadata": {
  "kernelspec": {
   "display_name": "Python 3 (ipykernel)",
   "language": "python",
   "name": "python3"
  },
  "language_info": {
   "codemirror_mode": {
    "name": "ipython",
    "version": 3
   },
   "file_extension": ".py",
   "mimetype": "text/x-python",
   "name": "python",
   "nbconvert_exporter": "python",
   "pygments_lexer": "ipython3",
   "version": "3.12.7"
  }
 },
 "nbformat": 4,
 "nbformat_minor": 5
}
